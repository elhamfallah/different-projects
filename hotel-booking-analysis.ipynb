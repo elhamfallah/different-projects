{
 "cells": [
  {
   "cell_type": "code",
   "execution_count": 1,
   "id": "4869cb91",
   "metadata": {
    "_cell_guid": "b1076dfc-b9ad-4769-8c92-a6c4dae69d19",
    "_uuid": "8f2839f25d086af736a60e9eeb907d3b93b6e0e5",
    "execution": {
     "iopub.execute_input": "2023-02-01T16:35:52.346457Z",
     "iopub.status.busy": "2023-02-01T16:35:52.345517Z",
     "iopub.status.idle": "2023-02-01T16:35:52.385152Z",
     "shell.execute_reply": "2023-02-01T16:35:52.383591Z"
    },
    "papermill": {
     "duration": 0.046896,
     "end_time": "2023-02-01T16:35:52.387405",
     "exception": false,
     "start_time": "2023-02-01T16:35:52.340509",
     "status": "completed"
    },
    "tags": []
   },
   "outputs": [
    {
     "name": "stdout",
     "output_type": "stream",
     "text": [
      "/kaggle/input/hotel-booking/hotel_booking.csv\n",
      "/kaggle/input/covid-19/.gitignore\n",
      "/kaggle/input/covid-19/README.md\n",
      "/kaggle/input/covid-19/datapackage.json\n",
      "/kaggle/input/covid-19/scripts/process_us.py\n",
      "/kaggle/input/covid-19/scripts/process_worldwide.py\n",
      "/kaggle/input/covid-19/scripts/requirements.txt\n",
      "/kaggle/input/covid-19/scripts/update_datapackage.py\n",
      "/kaggle/input/covid-19/.github/workflows/actions.yml\n",
      "/kaggle/input/covid-19/data/reference.csv\n",
      "/kaggle/input/covid-19/data/countries-aggregated.csv\n",
      "/kaggle/input/covid-19/data/us_simplified.csv\n",
      "/kaggle/input/covid-19/data/key-countries-pivoted.csv\n",
      "/kaggle/input/covid-19/data/us_deaths.csv\n",
      "/kaggle/input/covid-19/data/time-series-19-covid-combined.csv\n",
      "/kaggle/input/covid-19/data/worldwide-aggregate.csv\n",
      "/kaggle/input/covid-19/data/us_confirmed.csv\n"
     ]
    }
   ],
   "source": [
    "\n",
    "import numpy as np # linear algebra\n",
    "import pandas as pd # data processing, CSV file I/O (e.g. pd.read_csv)\n",
    "import os\n",
    "for dirname, _, filenames in os.walk('/kaggle/input'):\n",
    "    for filename in filenames:\n",
    "        print(os.path.join(dirname, filename))"
   ]
  },
  {
   "cell_type": "code",
   "execution_count": 2,
   "id": "a7c6ef88",
   "metadata": {
    "execution": {
     "iopub.execute_input": "2023-02-01T16:35:52.395289Z",
     "iopub.status.busy": "2023-02-01T16:35:52.394856Z",
     "iopub.status.idle": "2023-02-01T16:35:52.399470Z",
     "shell.execute_reply": "2023-02-01T16:35:52.398528Z"
    },
    "papermill": {
     "duration": 0.011577,
     "end_time": "2023-02-01T16:35:52.402135",
     "exception": false,
     "start_time": "2023-02-01T16:35:52.390558",
     "status": "completed"
    },
    "tags": []
   },
   "outputs": [],
   "source": [
    "import warnings\n",
    "warnings.filterwarnings('ignore')"
   ]
  },
  {
   "cell_type": "code",
   "execution_count": 3,
   "id": "fab7abd7",
   "metadata": {
    "execution": {
     "iopub.execute_input": "2023-02-01T16:35:52.410021Z",
     "iopub.status.busy": "2023-02-01T16:35:52.409553Z",
     "iopub.status.idle": "2023-02-01T16:35:53.315826Z",
     "shell.execute_reply": "2023-02-01T16:35:53.314636Z"
    },
    "papermill": {
     "duration": 0.913079,
     "end_time": "2023-02-01T16:35:53.318293",
     "exception": false,
     "start_time": "2023-02-01T16:35:52.405214",
     "status": "completed"
    },
    "tags": []
   },
   "outputs": [
    {
     "data": {
      "text/html": [
       "<div>\n",
       "<style scoped>\n",
       "    .dataframe tbody tr th:only-of-type {\n",
       "        vertical-align: middle;\n",
       "    }\n",
       "\n",
       "    .dataframe tbody tr th {\n",
       "        vertical-align: top;\n",
       "    }\n",
       "\n",
       "    .dataframe thead th {\n",
       "        text-align: right;\n",
       "    }\n",
       "</style>\n",
       "<table border=\"1\" class=\"dataframe\">\n",
       "  <thead>\n",
       "    <tr style=\"text-align: right;\">\n",
       "      <th></th>\n",
       "      <th>hotel</th>\n",
       "      <th>is_canceled</th>\n",
       "      <th>lead_time</th>\n",
       "      <th>arrival_date_year</th>\n",
       "      <th>arrival_date_month</th>\n",
       "      <th>arrival_date_week_number</th>\n",
       "      <th>arrival_date_day_of_month</th>\n",
       "      <th>stays_in_weekend_nights</th>\n",
       "      <th>stays_in_week_nights</th>\n",
       "      <th>adults</th>\n",
       "      <th>...</th>\n",
       "      <th>customer_type</th>\n",
       "      <th>adr</th>\n",
       "      <th>required_car_parking_spaces</th>\n",
       "      <th>total_of_special_requests</th>\n",
       "      <th>reservation_status</th>\n",
       "      <th>reservation_status_date</th>\n",
       "      <th>name</th>\n",
       "      <th>email</th>\n",
       "      <th>phone-number</th>\n",
       "      <th>credit_card</th>\n",
       "    </tr>\n",
       "  </thead>\n",
       "  <tbody>\n",
       "    <tr>\n",
       "      <th>80103</th>\n",
       "      <td>City Hotel</td>\n",
       "      <td>1</td>\n",
       "      <td>333</td>\n",
       "      <td>2016</td>\n",
       "      <td>September</td>\n",
       "      <td>39</td>\n",
       "      <td>20</td>\n",
       "      <td>0</td>\n",
       "      <td>2</td>\n",
       "      <td>1</td>\n",
       "      <td>...</td>\n",
       "      <td>Transient</td>\n",
       "      <td>80.00</td>\n",
       "      <td>0</td>\n",
       "      <td>0</td>\n",
       "      <td>Canceled</td>\n",
       "      <td>2015-11-11</td>\n",
       "      <td>Nicole Moody</td>\n",
       "      <td>Nicole.M@hotmail.com</td>\n",
       "      <td>261-781-0250</td>\n",
       "      <td>************5439</td>\n",
       "    </tr>\n",
       "    <tr>\n",
       "      <th>14353</th>\n",
       "      <td>Resort Hotel</td>\n",
       "      <td>0</td>\n",
       "      <td>1</td>\n",
       "      <td>2017</td>\n",
       "      <td>May</td>\n",
       "      <td>21</td>\n",
       "      <td>23</td>\n",
       "      <td>0</td>\n",
       "      <td>2</td>\n",
       "      <td>1</td>\n",
       "      <td>...</td>\n",
       "      <td>Group</td>\n",
       "      <td>75.00</td>\n",
       "      <td>0</td>\n",
       "      <td>2</td>\n",
       "      <td>Check-Out</td>\n",
       "      <td>2017-05-25</td>\n",
       "      <td>Nicole Scott</td>\n",
       "      <td>Nicole_Scott@yandex.com</td>\n",
       "      <td>244-981-5278</td>\n",
       "      <td>************2887</td>\n",
       "    </tr>\n",
       "    <tr>\n",
       "      <th>52550</th>\n",
       "      <td>City Hotel</td>\n",
       "      <td>1</td>\n",
       "      <td>12</td>\n",
       "      <td>2016</td>\n",
       "      <td>June</td>\n",
       "      <td>24</td>\n",
       "      <td>8</td>\n",
       "      <td>0</td>\n",
       "      <td>1</td>\n",
       "      <td>1</td>\n",
       "      <td>...</td>\n",
       "      <td>Transient</td>\n",
       "      <td>90.00</td>\n",
       "      <td>0</td>\n",
       "      <td>1</td>\n",
       "      <td>Canceled</td>\n",
       "      <td>2016-05-30</td>\n",
       "      <td>Jonathan Burton</td>\n",
       "      <td>Burton.Jonathan@yahoo.com</td>\n",
       "      <td>140-325-1137</td>\n",
       "      <td>************9209</td>\n",
       "    </tr>\n",
       "    <tr>\n",
       "      <th>51919</th>\n",
       "      <td>City Hotel</td>\n",
       "      <td>1</td>\n",
       "      <td>159</td>\n",
       "      <td>2016</td>\n",
       "      <td>May</td>\n",
       "      <td>22</td>\n",
       "      <td>26</td>\n",
       "      <td>0</td>\n",
       "      <td>3</td>\n",
       "      <td>1</td>\n",
       "      <td>...</td>\n",
       "      <td>Transient-Party</td>\n",
       "      <td>187.85</td>\n",
       "      <td>0</td>\n",
       "      <td>0</td>\n",
       "      <td>Canceled</td>\n",
       "      <td>2016-05-16</td>\n",
       "      <td>Edgar Long</td>\n",
       "      <td>Edgar.Long41@outlook.com</td>\n",
       "      <td>711-651-6701</td>\n",
       "      <td>************5624</td>\n",
       "    </tr>\n",
       "    <tr>\n",
       "      <th>22427</th>\n",
       "      <td>Resort Hotel</td>\n",
       "      <td>0</td>\n",
       "      <td>0</td>\n",
       "      <td>2017</td>\n",
       "      <td>March</td>\n",
       "      <td>10</td>\n",
       "      <td>7</td>\n",
       "      <td>0</td>\n",
       "      <td>3</td>\n",
       "      <td>2</td>\n",
       "      <td>...</td>\n",
       "      <td>Group</td>\n",
       "      <td>67.00</td>\n",
       "      <td>1</td>\n",
       "      <td>0</td>\n",
       "      <td>Check-Out</td>\n",
       "      <td>2017-03-10</td>\n",
       "      <td>Amy Edwards</td>\n",
       "      <td>Edwards_Amy@att.com</td>\n",
       "      <td>875-996-0922</td>\n",
       "      <td>************7414</td>\n",
       "    </tr>\n",
       "  </tbody>\n",
       "</table>\n",
       "<p>5 rows × 36 columns</p>\n",
       "</div>"
      ],
      "text/plain": [
       "              hotel  is_canceled  lead_time  arrival_date_year  \\\n",
       "80103    City Hotel            1        333               2016   \n",
       "14353  Resort Hotel            0          1               2017   \n",
       "52550    City Hotel            1         12               2016   \n",
       "51919    City Hotel            1        159               2016   \n",
       "22427  Resort Hotel            0          0               2017   \n",
       "\n",
       "      arrival_date_month  arrival_date_week_number  arrival_date_day_of_month  \\\n",
       "80103          September                        39                         20   \n",
       "14353                May                        21                         23   \n",
       "52550               June                        24                          8   \n",
       "51919                May                        22                         26   \n",
       "22427              March                        10                          7   \n",
       "\n",
       "       stays_in_weekend_nights  stays_in_week_nights  adults  ...  \\\n",
       "80103                        0                     2       1  ...   \n",
       "14353                        0                     2       1  ...   \n",
       "52550                        0                     1       1  ...   \n",
       "51919                        0                     3       1  ...   \n",
       "22427                        0                     3       2  ...   \n",
       "\n",
       "         customer_type     adr required_car_parking_spaces  \\\n",
       "80103        Transient   80.00                           0   \n",
       "14353            Group   75.00                           0   \n",
       "52550        Transient   90.00                           0   \n",
       "51919  Transient-Party  187.85                           0   \n",
       "22427            Group   67.00                           1   \n",
       "\n",
       "      total_of_special_requests reservation_status reservation_status_date  \\\n",
       "80103                         0           Canceled              2015-11-11   \n",
       "14353                         2          Check-Out              2017-05-25   \n",
       "52550                         1           Canceled              2016-05-30   \n",
       "51919                         0           Canceled              2016-05-16   \n",
       "22427                         0          Check-Out              2017-03-10   \n",
       "\n",
       "                  name                      email  phone-number  \\\n",
       "80103     Nicole Moody       Nicole.M@hotmail.com  261-781-0250   \n",
       "14353     Nicole Scott    Nicole_Scott@yandex.com  244-981-5278   \n",
       "52550  Jonathan Burton  Burton.Jonathan@yahoo.com  140-325-1137   \n",
       "51919       Edgar Long   Edgar.Long41@outlook.com  711-651-6701   \n",
       "22427      Amy Edwards        Edwards_Amy@att.com  875-996-0922   \n",
       "\n",
       "            credit_card  \n",
       "80103  ************5439  \n",
       "14353  ************2887  \n",
       "52550  ************9209  \n",
       "51919  ************5624  \n",
       "22427  ************7414  \n",
       "\n",
       "[5 rows x 36 columns]"
      ]
     },
     "execution_count": 3,
     "metadata": {},
     "output_type": "execute_result"
    }
   ],
   "source": [
    "df=pd.read_csv('../input/hotel-booking/hotel_booking.csv')\n",
    "df.sample(5)"
   ]
  },
  {
   "cell_type": "code",
   "execution_count": 4,
   "id": "2a1ac4d5",
   "metadata": {
    "execution": {
     "iopub.execute_input": "2023-02-01T16:35:53.326119Z",
     "iopub.status.busy": "2023-02-01T16:35:53.325680Z",
     "iopub.status.idle": "2023-02-01T16:35:53.371864Z",
     "shell.execute_reply": "2023-02-01T16:35:53.371095Z"
    },
    "papermill": {
     "duration": 0.052072,
     "end_time": "2023-02-01T16:35:53.373626",
     "exception": false,
     "start_time": "2023-02-01T16:35:53.321554",
     "status": "completed"
    },
    "tags": []
   },
   "outputs": [
    {
     "data": {
      "text/plain": [
       "<bound method DataFrame.info of                hotel  is_canceled  lead_time  arrival_date_year  \\\n",
       "0       Resort Hotel            0        342               2015   \n",
       "1       Resort Hotel            0        737               2015   \n",
       "2       Resort Hotel            0          7               2015   \n",
       "3       Resort Hotel            0         13               2015   \n",
       "4       Resort Hotel            0         14               2015   \n",
       "...              ...          ...        ...                ...   \n",
       "119385    City Hotel            0         23               2017   \n",
       "119386    City Hotel            0        102               2017   \n",
       "119387    City Hotel            0         34               2017   \n",
       "119388    City Hotel            0        109               2017   \n",
       "119389    City Hotel            0        205               2017   \n",
       "\n",
       "       arrival_date_month  arrival_date_week_number  \\\n",
       "0                    July                        27   \n",
       "1                    July                        27   \n",
       "2                    July                        27   \n",
       "3                    July                        27   \n",
       "4                    July                        27   \n",
       "...                   ...                       ...   \n",
       "119385             August                        35   \n",
       "119386             August                        35   \n",
       "119387             August                        35   \n",
       "119388             August                        35   \n",
       "119389             August                        35   \n",
       "\n",
       "        arrival_date_day_of_month  stays_in_weekend_nights  \\\n",
       "0                               1                        0   \n",
       "1                               1                        0   \n",
       "2                               1                        0   \n",
       "3                               1                        0   \n",
       "4                               1                        0   \n",
       "...                           ...                      ...   \n",
       "119385                         30                        2   \n",
       "119386                         31                        2   \n",
       "119387                         31                        2   \n",
       "119388                         31                        2   \n",
       "119389                         29                        2   \n",
       "\n",
       "        stays_in_week_nights  adults  ...  customer_type     adr  \\\n",
       "0                          0       2  ...      Transient    0.00   \n",
       "1                          0       2  ...      Transient    0.00   \n",
       "2                          1       1  ...      Transient   75.00   \n",
       "3                          1       1  ...      Transient   75.00   \n",
       "4                          2       2  ...      Transient   98.00   \n",
       "...                      ...     ...  ...            ...     ...   \n",
       "119385                     5       2  ...      Transient   96.14   \n",
       "119386                     5       3  ...      Transient  225.43   \n",
       "119387                     5       2  ...      Transient  157.71   \n",
       "119388                     5       2  ...      Transient  104.40   \n",
       "119389                     7       2  ...      Transient  151.20   \n",
       "\n",
       "       required_car_parking_spaces total_of_special_requests  \\\n",
       "0                                0                         0   \n",
       "1                                0                         0   \n",
       "2                                0                         0   \n",
       "3                                0                         0   \n",
       "4                                0                         1   \n",
       "...                            ...                       ...   \n",
       "119385                           0                         0   \n",
       "119386                           0                         2   \n",
       "119387                           0                         4   \n",
       "119388                           0                         0   \n",
       "119389                           0                         2   \n",
       "\n",
       "       reservation_status reservation_status_date                name  \\\n",
       "0               Check-Out              2015-07-01       Ernest Barnes   \n",
       "1               Check-Out              2015-07-01        Andrea Baker   \n",
       "2               Check-Out              2015-07-02      Rebecca Parker   \n",
       "3               Check-Out              2015-07-02        Laura Murray   \n",
       "4               Check-Out              2015-07-03         Linda Hines   \n",
       "...                   ...                     ...                 ...   \n",
       "119385          Check-Out              2017-09-06     Claudia Johnson   \n",
       "119386          Check-Out              2017-09-07      Wesley Aguilar   \n",
       "119387          Check-Out              2017-09-07        Mary Morales   \n",
       "119388          Check-Out              2017-09-07  Caroline Conley MD   \n",
       "119389          Check-Out              2017-09-07      Ariana Michael   \n",
       "\n",
       "                              email  phone-number       credit_card  \n",
       "0       Ernest.Barnes31@outlook.com  669-792-1661  ************4322  \n",
       "1            Andrea_Baker94@aol.com  858-637-6955  ************9157  \n",
       "2        Rebecca_Parker@comcast.net  652-885-2745  ************3734  \n",
       "3                 Laura_M@gmail.com  364-656-8427  ************5677  \n",
       "4                LHines@verizon.com  713-226-5883  ************5498  \n",
       "...                             ...           ...               ...  \n",
       "119385          Claudia.J@yahoo.com  403-092-5582  ************8647  \n",
       "119386         WAguilar@xfinity.com  238-763-0612  ************4333  \n",
       "119387     Mary_Morales@hotmail.com  395-518-4100  ************1821  \n",
       "119388      MD_Caroline@comcast.net  531-528-1017  ************7860  \n",
       "119389         Ariana_M@xfinity.com  422-804-6403  ************4482  \n",
       "\n",
       "[119390 rows x 36 columns]>"
      ]
     },
     "execution_count": 4,
     "metadata": {},
     "output_type": "execute_result"
    }
   ],
   "source": [
    "df.info"
   ]
  },
  {
   "cell_type": "code",
   "execution_count": 5,
   "id": "3b9647eb",
   "metadata": {
    "execution": {
     "iopub.execute_input": "2023-02-01T16:35:53.382606Z",
     "iopub.status.busy": "2023-02-01T16:35:53.381680Z",
     "iopub.status.idle": "2023-02-01T16:35:53.460038Z",
     "shell.execute_reply": "2023-02-01T16:35:53.458748Z"
    },
    "papermill": {
     "duration": 0.085465,
     "end_time": "2023-02-01T16:35:53.462514",
     "exception": false,
     "start_time": "2023-02-01T16:35:53.377049",
     "status": "completed"
    },
    "tags": []
   },
   "outputs": [
    {
     "data": {
      "text/plain": [
       "hotel                                  0\n",
       "is_canceled                            0\n",
       "lead_time                              0\n",
       "arrival_date_year                      0\n",
       "arrival_date_month                     0\n",
       "arrival_date_week_number               0\n",
       "arrival_date_day_of_month              0\n",
       "stays_in_weekend_nights                0\n",
       "stays_in_week_nights                   0\n",
       "adults                                 0\n",
       "children                               4\n",
       "babies                                 0\n",
       "meal                                   0\n",
       "country                              488\n",
       "market_segment                         0\n",
       "distribution_channel                   0\n",
       "is_repeated_guest                      0\n",
       "previous_cancellations                 0\n",
       "previous_bookings_not_canceled         0\n",
       "reserved_room_type                     0\n",
       "assigned_room_type                     0\n",
       "booking_changes                        0\n",
       "deposit_type                           0\n",
       "agent                              16340\n",
       "company                           112593\n",
       "days_in_waiting_list                   0\n",
       "customer_type                          0\n",
       "adr                                    0\n",
       "required_car_parking_spaces            0\n",
       "total_of_special_requests              0\n",
       "reservation_status                     0\n",
       "reservation_status_date                0\n",
       "name                                   0\n",
       "email                                  0\n",
       "phone-number                           0\n",
       "credit_card                            0\n",
       "dtype: int64"
      ]
     },
     "execution_count": 5,
     "metadata": {},
     "output_type": "execute_result"
    }
   ],
   "source": [
    "# data cleaninf\n",
    "# handeling missing value\n",
    "missing_values_count = df.isnull().sum()\n",
    "missing_values_count[0:]"
   ]
  },
  {
   "cell_type": "code",
   "execution_count": 6,
   "id": "03106113",
   "metadata": {
    "execution": {
     "iopub.execute_input": "2023-02-01T16:35:53.471147Z",
     "iopub.status.busy": "2023-02-01T16:35:53.470772Z",
     "iopub.status.idle": "2023-02-01T16:35:53.478178Z",
     "shell.execute_reply": "2023-02-01T16:35:53.476745Z"
    },
    "papermill": {
     "duration": 0.014795,
     "end_time": "2023-02-01T16:35:53.480934",
     "exception": false,
     "start_time": "2023-02-01T16:35:53.466139",
     "status": "completed"
    },
    "tags": []
   },
   "outputs": [
    {
     "data": {
      "text/plain": [
       "3.01125629356637"
      ]
     },
     "execution_count": 6,
     "metadata": {},
     "output_type": "execute_result"
    }
   ],
   "source": [
    "# how many total missing values do we have?\n",
    "total_cells = np.product(df.shape)\n",
    "total_missing = missing_values_count.sum()\n",
    "# percent of data that is missing\n",
    "(total_missing/total_cells) * 100"
   ]
  },
  {
   "cell_type": "code",
   "execution_count": 7,
   "id": "24242474",
   "metadata": {
    "execution": {
     "iopub.execute_input": "2023-02-01T16:35:53.490250Z",
     "iopub.status.busy": "2023-02-01T16:35:53.489857Z",
     "iopub.status.idle": "2023-02-01T16:35:53.568012Z",
     "shell.execute_reply": "2023-02-01T16:35:53.566765Z"
    },
    "papermill": {
     "duration": 0.085695,
     "end_time": "2023-02-01T16:35:53.570343",
     "exception": false,
     "start_time": "2023-02-01T16:35:53.484648",
     "status": "completed"
    },
    "tags": []
   },
   "outputs": [],
   "source": [
    "# remove all the rows that contain a missing value\n",
    "df=df.dropna()"
   ]
  },
  {
   "cell_type": "code",
   "execution_count": 8,
   "id": "71304a6d",
   "metadata": {
    "execution": {
     "iopub.execute_input": "2023-02-01T16:35:53.578598Z",
     "iopub.status.busy": "2023-02-01T16:35:53.578274Z",
     "iopub.status.idle": "2023-02-01T16:35:53.588318Z",
     "shell.execute_reply": "2023-02-01T16:35:53.587348Z"
    },
    "papermill": {
     "duration": 0.016305,
     "end_time": "2023-02-01T16:35:53.590262",
     "exception": false,
     "start_time": "2023-02-01T16:35:53.573957",
     "status": "completed"
    },
    "tags": []
   },
   "outputs": [
    {
     "data": {
      "text/plain": [
       "hotel                             0\n",
       "is_canceled                       0\n",
       "lead_time                         0\n",
       "arrival_date_year                 0\n",
       "arrival_date_month                0\n",
       "arrival_date_week_number          0\n",
       "arrival_date_day_of_month         0\n",
       "stays_in_weekend_nights           0\n",
       "stays_in_week_nights              0\n",
       "adults                            0\n",
       "children                          0\n",
       "babies                            0\n",
       "meal                              0\n",
       "country                           0\n",
       "market_segment                    0\n",
       "distribution_channel              0\n",
       "is_repeated_guest                 0\n",
       "previous_cancellations            0\n",
       "previous_bookings_not_canceled    0\n",
       "reserved_room_type                0\n",
       "assigned_room_type                0\n",
       "booking_changes                   0\n",
       "deposit_type                      0\n",
       "agent                             0\n",
       "company                           0\n",
       "days_in_waiting_list              0\n",
       "customer_type                     0\n",
       "adr                               0\n",
       "required_car_parking_spaces       0\n",
       "total_of_special_requests         0\n",
       "reservation_status                0\n",
       "reservation_status_date           0\n",
       "name                              0\n",
       "email                             0\n",
       "phone-number                      0\n",
       "credit_card                       0\n",
       "dtype: int64"
      ]
     },
     "execution_count": 8,
     "metadata": {},
     "output_type": "execute_result"
    }
   ],
   "source": [
    "df.isnull().sum()"
   ]
  },
  {
   "cell_type": "code",
   "execution_count": null,
   "id": "83e86b58",
   "metadata": {
    "papermill": {
     "duration": 0.003146,
     "end_time": "2023-02-01T16:35:53.597083",
     "exception": false,
     "start_time": "2023-02-01T16:35:53.593937",
     "status": "completed"
    },
    "tags": []
   },
   "outputs": [],
   "source": []
  }
 ],
 "metadata": {
  "kernelspec": {
   "display_name": "Python 3",
   "language": "python",
   "name": "python3"
  },
  "language_info": {
   "codemirror_mode": {
    "name": "ipython",
    "version": 3
   },
   "file_extension": ".py",
   "mimetype": "text/x-python",
   "name": "python",
   "nbconvert_exporter": "python",
   "pygments_lexer": "ipython3",
   "version": "3.7.12"
  },
  "papermill": {
   "default_parameters": {},
   "duration": 11.963005,
   "end_time": "2023-02-01T16:35:56.856911",
   "environment_variables": {},
   "exception": null,
   "input_path": "__notebook__.ipynb",
   "output_path": "__notebook__.ipynb",
   "parameters": {},
   "start_time": "2023-02-01T16:35:44.893906",
   "version": "2.3.4"
  }
 },
 "nbformat": 4,
 "nbformat_minor": 5
}
