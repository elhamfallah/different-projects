{
 "cells": [
  {
   "cell_type": "code",
   "execution_count": 1,
   "id": "84979d89",
   "metadata": {
    "_cell_guid": "b1076dfc-b9ad-4769-8c92-a6c4dae69d19",
    "_uuid": "8f2839f25d086af736a60e9eeb907d3b93b6e0e5",
    "execution": {
     "iopub.execute_input": "2023-02-06T18:49:50.781282Z",
     "iopub.status.busy": "2023-02-06T18:49:50.780787Z",
     "iopub.status.idle": "2023-02-06T18:49:50.791568Z",
     "shell.execute_reply": "2023-02-06T18:49:50.790659Z"
    },
    "papermill": {
     "duration": 0.018689,
     "end_time": "2023-02-06T18:49:50.794025",
     "exception": false,
     "start_time": "2023-02-06T18:49:50.775336",
     "status": "completed"
    },
    "tags": []
   },
   "outputs": [],
   "source": [
    "\n",
    "import numpy as np # linear algebra\n",
    "import pandas as pd # data processing, CSV file I/O (e.g. pd.read_csv)\n",
    "import warnings\n",
    "warnings.filterwarnings('ignore')"
   ]
  },
  {
   "cell_type": "code",
   "execution_count": 2,
   "id": "128fed25",
   "metadata": {
    "execution": {
     "iopub.execute_input": "2023-02-06T18:49:50.802469Z",
     "iopub.status.busy": "2023-02-06T18:49:50.801732Z",
     "iopub.status.idle": "2023-02-06T18:49:52.264861Z",
     "shell.execute_reply": "2023-02-06T18:49:52.264251Z"
    },
    "papermill": {
     "duration": 1.469513,
     "end_time": "2023-02-06T18:49:52.267018",
     "exception": false,
     "start_time": "2023-02-06T18:49:50.797505",
     "status": "completed"
    },
    "tags": []
   },
   "outputs": [
    {
     "data": {
      "text/html": [
       "<div>\n",
       "<style scoped>\n",
       "    .dataframe tbody tr th:only-of-type {\n",
       "        vertical-align: middle;\n",
       "    }\n",
       "\n",
       "    .dataframe tbody tr th {\n",
       "        vertical-align: top;\n",
       "    }\n",
       "\n",
       "    .dataframe thead th {\n",
       "        text-align: right;\n",
       "    }\n",
       "</style>\n",
       "<table border=\"1\" class=\"dataframe\">\n",
       "  <thead>\n",
       "    <tr style=\"text-align: right;\">\n",
       "      <th></th>\n",
       "      <th>index</th>\n",
       "      <th>Order ID</th>\n",
       "      <th>Date</th>\n",
       "      <th>Status</th>\n",
       "      <th>Fulfilment</th>\n",
       "      <th>Sales Channel</th>\n",
       "      <th>ship-service-level</th>\n",
       "      <th>Style</th>\n",
       "      <th>SKU</th>\n",
       "      <th>Category</th>\n",
       "      <th>...</th>\n",
       "      <th>currency</th>\n",
       "      <th>Amount</th>\n",
       "      <th>ship-city</th>\n",
       "      <th>ship-state</th>\n",
       "      <th>ship-postal-code</th>\n",
       "      <th>ship-country</th>\n",
       "      <th>promotion-ids</th>\n",
       "      <th>B2B</th>\n",
       "      <th>fulfilled-by</th>\n",
       "      <th>Unnamed: 22</th>\n",
       "    </tr>\n",
       "  </thead>\n",
       "  <tbody>\n",
       "    <tr>\n",
       "      <th>37108</th>\n",
       "      <td>37108</td>\n",
       "      <td>408-2831510-4678721</td>\n",
       "      <td>04-08-22</td>\n",
       "      <td>Cancelled</td>\n",
       "      <td>Amazon</td>\n",
       "      <td>Amazon.in</td>\n",
       "      <td>Expedited</td>\n",
       "      <td>J0113</td>\n",
       "      <td>J0113-TP-XXXL</td>\n",
       "      <td>Top</td>\n",
       "      <td>...</td>\n",
       "      <td>INR</td>\n",
       "      <td>540.0</td>\n",
       "      <td>BENGALURU</td>\n",
       "      <td>KARNATAKA</td>\n",
       "      <td>560016.0</td>\n",
       "      <td>IN</td>\n",
       "      <td>NaN</td>\n",
       "      <td>False</td>\n",
       "      <td>NaN</td>\n",
       "      <td>NaN</td>\n",
       "    </tr>\n",
       "    <tr>\n",
       "      <th>15733</th>\n",
       "      <td>15733</td>\n",
       "      <td>171-6507016-0293152</td>\n",
       "      <td>04-21-22</td>\n",
       "      <td>Shipped - Delivered to Buyer</td>\n",
       "      <td>Merchant</td>\n",
       "      <td>Amazon.in</td>\n",
       "      <td>Standard</td>\n",
       "      <td>J0335</td>\n",
       "      <td>J0335-DR-XS</td>\n",
       "      <td>Western Dress</td>\n",
       "      <td>...</td>\n",
       "      <td>INR</td>\n",
       "      <td>807.0</td>\n",
       "      <td>AHMEDABAD</td>\n",
       "      <td>Gujarat</td>\n",
       "      <td>382424.0</td>\n",
       "      <td>IN</td>\n",
       "      <td>Amazon PLCC Free-Financing Universal Merchant ...</td>\n",
       "      <td>False</td>\n",
       "      <td>Easy Ship</td>\n",
       "      <td>NaN</td>\n",
       "    </tr>\n",
       "    <tr>\n",
       "      <th>53312</th>\n",
       "      <td>53312</td>\n",
       "      <td>408-8046632-6765132</td>\n",
       "      <td>05-28-22</td>\n",
       "      <td>Shipped</td>\n",
       "      <td>Amazon</td>\n",
       "      <td>Amazon.in</td>\n",
       "      <td>Expedited</td>\n",
       "      <td>JNE3373</td>\n",
       "      <td>JNE3373-KR-S</td>\n",
       "      <td>kurta</td>\n",
       "      <td>...</td>\n",
       "      <td>INR</td>\n",
       "      <td>382.0</td>\n",
       "      <td>Ghaziabad up</td>\n",
       "      <td>UTTAR PRADESH</td>\n",
       "      <td>201002.0</td>\n",
       "      <td>IN</td>\n",
       "      <td>NaN</td>\n",
       "      <td>False</td>\n",
       "      <td>NaN</td>\n",
       "      <td>False</td>\n",
       "    </tr>\n",
       "    <tr>\n",
       "      <th>43066</th>\n",
       "      <td>43066</td>\n",
       "      <td>406-2955114-1728366</td>\n",
       "      <td>04-04-22</td>\n",
       "      <td>Shipped</td>\n",
       "      <td>Amazon</td>\n",
       "      <td>Amazon.in</td>\n",
       "      <td>Expedited</td>\n",
       "      <td>JNE3610</td>\n",
       "      <td>JNE3610-KR-S</td>\n",
       "      <td>kurta</td>\n",
       "      <td>...</td>\n",
       "      <td>INR</td>\n",
       "      <td>299.0</td>\n",
       "      <td>BENGALURU</td>\n",
       "      <td>KARNATAKA</td>\n",
       "      <td>560004.0</td>\n",
       "      <td>IN</td>\n",
       "      <td>NaN</td>\n",
       "      <td>False</td>\n",
       "      <td>NaN</td>\n",
       "      <td>NaN</td>\n",
       "    </tr>\n",
       "    <tr>\n",
       "      <th>21383</th>\n",
       "      <td>21383</td>\n",
       "      <td>405-9969263-6977941</td>\n",
       "      <td>04-17-22</td>\n",
       "      <td>Shipped</td>\n",
       "      <td>Amazon</td>\n",
       "      <td>Amazon.in</td>\n",
       "      <td>Expedited</td>\n",
       "      <td>J0236</td>\n",
       "      <td>J0236-SKD-L</td>\n",
       "      <td>Set</td>\n",
       "      <td>...</td>\n",
       "      <td>INR</td>\n",
       "      <td>922.0</td>\n",
       "      <td>GUNTUR</td>\n",
       "      <td>ANDHRA PRADESH</td>\n",
       "      <td>522003.0</td>\n",
       "      <td>IN</td>\n",
       "      <td>IN Core Free Shipping 2015/04/08 23-48-5-108</td>\n",
       "      <td>False</td>\n",
       "      <td>NaN</td>\n",
       "      <td>NaN</td>\n",
       "    </tr>\n",
       "  </tbody>\n",
       "</table>\n",
       "<p>5 rows × 24 columns</p>\n",
       "</div>"
      ],
      "text/plain": [
       "       index             Order ID      Date                        Status  \\\n",
       "37108  37108  408-2831510-4678721  04-08-22                     Cancelled   \n",
       "15733  15733  171-6507016-0293152  04-21-22  Shipped - Delivered to Buyer   \n",
       "53312  53312  408-8046632-6765132  05-28-22                       Shipped   \n",
       "43066  43066  406-2955114-1728366  04-04-22                       Shipped   \n",
       "21383  21383  405-9969263-6977941  04-17-22                       Shipped   \n",
       "\n",
       "      Fulfilment Sales Channel  ship-service-level    Style            SKU  \\\n",
       "37108     Amazon      Amazon.in          Expedited    J0113  J0113-TP-XXXL   \n",
       "15733   Merchant      Amazon.in           Standard    J0335    J0335-DR-XS   \n",
       "53312     Amazon      Amazon.in          Expedited  JNE3373   JNE3373-KR-S   \n",
       "43066     Amazon      Amazon.in          Expedited  JNE3610   JNE3610-KR-S   \n",
       "21383     Amazon      Amazon.in          Expedited    J0236    J0236-SKD-L   \n",
       "\n",
       "            Category  ... currency Amount     ship-city      ship-state  \\\n",
       "37108            Top  ...      INR  540.0     BENGALURU       KARNATAKA   \n",
       "15733  Western Dress  ...      INR  807.0     AHMEDABAD         Gujarat   \n",
       "53312          kurta  ...      INR  382.0  Ghaziabad up   UTTAR PRADESH   \n",
       "43066          kurta  ...      INR  299.0     BENGALURU       KARNATAKA   \n",
       "21383            Set  ...      INR  922.0        GUNTUR  ANDHRA PRADESH   \n",
       "\n",
       "      ship-postal-code  ship-country  \\\n",
       "37108         560016.0            IN   \n",
       "15733         382424.0            IN   \n",
       "53312         201002.0            IN   \n",
       "43066         560004.0            IN   \n",
       "21383         522003.0            IN   \n",
       "\n",
       "                                           promotion-ids    B2B  fulfilled-by  \\\n",
       "37108                                                NaN  False           NaN   \n",
       "15733  Amazon PLCC Free-Financing Universal Merchant ...  False     Easy Ship   \n",
       "53312                                                NaN  False           NaN   \n",
       "43066                                                NaN  False           NaN   \n",
       "21383       IN Core Free Shipping 2015/04/08 23-48-5-108  False           NaN   \n",
       "\n",
       "      Unnamed: 22  \n",
       "37108         NaN  \n",
       "15733         NaN  \n",
       "53312       False  \n",
       "43066         NaN  \n",
       "21383         NaN  \n",
       "\n",
       "[5 rows x 24 columns]"
      ]
     },
     "execution_count": 2,
     "metadata": {},
     "output_type": "execute_result"
    }
   ],
   "source": [
    "df=pd.read_csv('/kaggle/input/unlock-profits-with-e-commerce-sales-data/Amazon Sale Report.csv')\n",
    "df.sample(5)"
   ]
  },
  {
   "cell_type": "code",
   "execution_count": 3,
   "id": "1695a9dc",
   "metadata": {
    "execution": {
     "iopub.execute_input": "2023-02-06T18:49:52.276074Z",
     "iopub.status.busy": "2023-02-06T18:49:52.275520Z",
     "iopub.status.idle": "2023-02-06T18:49:52.347948Z",
     "shell.execute_reply": "2023-02-06T18:49:52.347325Z"
    },
    "papermill": {
     "duration": 0.079064,
     "end_time": "2023-02-06T18:49:52.349718",
     "exception": false,
     "start_time": "2023-02-06T18:49:52.270654",
     "status": "completed"
    },
    "tags": []
   },
   "outputs": [
    {
     "data": {
      "text/plain": [
       "<bound method DataFrame.info of          index             Order ID      Date                        Status  \\\n",
       "0            0  405-8078784-5731545  04-30-22                     Cancelled   \n",
       "1            1  171-9198151-1101146  04-30-22  Shipped - Delivered to Buyer   \n",
       "2            2  404-0687676-7273146  04-30-22                       Shipped   \n",
       "3            3  403-9615377-8133951  04-30-22                     Cancelled   \n",
       "4            4  407-1069790-7240320  04-30-22                       Shipped   \n",
       "...        ...                  ...       ...                           ...   \n",
       "128970  128970  406-6001380-7673107  05-31-22                       Shipped   \n",
       "128971  128971  402-9551604-7544318  05-31-22                       Shipped   \n",
       "128972  128972  407-9547469-3152358  05-31-22                       Shipped   \n",
       "128973  128973  402-6184140-0545956  05-31-22                       Shipped   \n",
       "128974  128974  408-7436540-8728312  05-31-22                       Shipped   \n",
       "\n",
       "       Fulfilment Sales Channel  ship-service-level    Style              SKU  \\\n",
       "0        Merchant      Amazon.in           Standard   SET389   SET389-KR-NP-S   \n",
       "1        Merchant      Amazon.in           Standard  JNE3781  JNE3781-KR-XXXL   \n",
       "2          Amazon      Amazon.in          Expedited  JNE3371    JNE3371-KR-XL   \n",
       "3        Merchant      Amazon.in           Standard    J0341       J0341-DR-L   \n",
       "4          Amazon      Amazon.in          Expedited  JNE3671  JNE3671-TU-XXXL   \n",
       "...           ...            ...                ...      ...              ...   \n",
       "128970     Amazon      Amazon.in          Expedited  JNE3697    JNE3697-KR-XL   \n",
       "128971     Amazon      Amazon.in          Expedited   SET401   SET401-KR-NP-M   \n",
       "128972     Amazon      Amazon.in          Expedited    J0157     J0157-DR-XXL   \n",
       "128973     Amazon      Amazon.in          Expedited    J0012     J0012-SKD-XS   \n",
       "128974     Amazon      Amazon.in          Expedited    J0003      J0003-SET-S   \n",
       "\n",
       "             Category  ... currency   Amount    ship-city    ship-state  \\\n",
       "0                 Set  ...      INR   647.62       MUMBAI   MAHARASHTRA   \n",
       "1               kurta  ...      INR   406.00    BENGALURU     KARNATAKA   \n",
       "2               kurta  ...      INR   329.00  NAVI MUMBAI   MAHARASHTRA   \n",
       "3       Western Dress  ...      INR   753.33   PUDUCHERRY    PUDUCHERRY   \n",
       "4                 Top  ...      INR   574.00      CHENNAI    TAMIL NADU   \n",
       "...               ...  ...      ...      ...          ...           ...   \n",
       "128970          kurta  ...      INR   517.00    HYDERABAD     TELANGANA   \n",
       "128971            Set  ...      INR   999.00     GURUGRAM       HARYANA   \n",
       "128972  Western Dress  ...      INR   690.00    HYDERABAD     TELANGANA   \n",
       "128973            Set  ...      INR  1199.00        Halol       Gujarat   \n",
       "128974            Set  ...      INR   696.00       Raipur  CHHATTISGARH   \n",
       "\n",
       "       ship-postal-code  ship-country  \\\n",
       "0              400081.0            IN   \n",
       "1              560085.0            IN   \n",
       "2              410210.0            IN   \n",
       "3              605008.0            IN   \n",
       "4              600073.0            IN   \n",
       "...                 ...           ...   \n",
       "128970         500013.0            IN   \n",
       "128971         122004.0            IN   \n",
       "128972         500049.0            IN   \n",
       "128973         389350.0            IN   \n",
       "128974         492014.0            IN   \n",
       "\n",
       "                                            promotion-ids    B2B  \\\n",
       "0                                                     NaN  False   \n",
       "1       Amazon PLCC Free-Financing Universal Merchant ...  False   \n",
       "2            IN Core Free Shipping 2015/04/08 23-48-5-108   True   \n",
       "3                                                     NaN  False   \n",
       "4                                                     NaN  False   \n",
       "...                                                   ...    ...   \n",
       "128970                                                NaN  False   \n",
       "128971       IN Core Free Shipping 2015/04/08 23-48-5-108  False   \n",
       "128972                                                NaN  False   \n",
       "128973       IN Core Free Shipping 2015/04/08 23-48-5-108  False   \n",
       "128974       IN Core Free Shipping 2015/04/08 23-48-5-108  False   \n",
       "\n",
       "        fulfilled-by Unnamed: 22  \n",
       "0          Easy Ship         NaN  \n",
       "1          Easy Ship         NaN  \n",
       "2                NaN         NaN  \n",
       "3          Easy Ship         NaN  \n",
       "4                NaN         NaN  \n",
       "...              ...         ...  \n",
       "128970           NaN       False  \n",
       "128971           NaN       False  \n",
       "128972           NaN       False  \n",
       "128973           NaN       False  \n",
       "128974           NaN       False  \n",
       "\n",
       "[128975 rows x 24 columns]>"
      ]
     },
     "execution_count": 3,
     "metadata": {},
     "output_type": "execute_result"
    }
   ],
   "source": [
    "df.info"
   ]
  },
  {
   "cell_type": "code",
   "execution_count": 4,
   "id": "92b41339",
   "metadata": {
    "execution": {
     "iopub.execute_input": "2023-02-06T18:49:52.359000Z",
     "iopub.status.busy": "2023-02-06T18:49:52.358412Z",
     "iopub.status.idle": "2023-02-06T18:49:52.450838Z",
     "shell.execute_reply": "2023-02-06T18:49:52.449779Z"
    },
    "papermill": {
     "duration": 0.099154,
     "end_time": "2023-02-06T18:49:52.452660",
     "exception": false,
     "start_time": "2023-02-06T18:49:52.353506",
     "status": "completed"
    },
    "tags": []
   },
   "outputs": [
    {
     "data": {
      "text/plain": [
       "index                     0\n",
       "Order ID                  0\n",
       "Date                      0\n",
       "Status                    0\n",
       "Fulfilment                0\n",
       "Sales Channel             0\n",
       "ship-service-level        0\n",
       "Style                     0\n",
       "SKU                       0\n",
       "Category                  0\n",
       "Size                      0\n",
       "ASIN                      0\n",
       "Courier Status         6872\n",
       "Qty                       0\n",
       "currency               7795\n",
       "Amount                 7795\n",
       "ship-city                33\n",
       "ship-state               33\n",
       "ship-postal-code         33\n",
       "ship-country             33\n",
       "promotion-ids         49153\n",
       "B2B                       0\n",
       "fulfilled-by          89698\n",
       "Unnamed: 22           49050\n",
       "dtype: int64"
      ]
     },
     "execution_count": 4,
     "metadata": {},
     "output_type": "execute_result"
    }
   ],
   "source": [
    "df.isnull().sum()"
   ]
  },
  {
   "cell_type": "code",
   "execution_count": 5,
   "id": "d253c179",
   "metadata": {
    "execution": {
     "iopub.execute_input": "2023-02-06T18:49:52.461819Z",
     "iopub.status.busy": "2023-02-06T18:49:52.461298Z",
     "iopub.status.idle": "2023-02-06T18:49:52.590077Z",
     "shell.execute_reply": "2023-02-06T18:49:52.589118Z"
    },
    "papermill": {
     "duration": 0.135721,
     "end_time": "2023-02-06T18:49:52.592221",
     "exception": false,
     "start_time": "2023-02-06T18:49:52.456500",
     "status": "completed"
    },
    "tags": []
   },
   "outputs": [],
   "source": [
    "df=df.fillna(method = 'bfill', axis=0)"
   ]
  },
  {
   "cell_type": "code",
   "execution_count": 6,
   "id": "1ef8a506",
   "metadata": {
    "execution": {
     "iopub.execute_input": "2023-02-06T18:49:52.601814Z",
     "iopub.status.busy": "2023-02-06T18:49:52.601439Z",
     "iopub.status.idle": "2023-02-06T18:49:52.692050Z",
     "shell.execute_reply": "2023-02-06T18:49:52.691040Z"
    },
    "papermill": {
     "duration": 0.097554,
     "end_time": "2023-02-06T18:49:52.694342",
     "exception": false,
     "start_time": "2023-02-06T18:49:52.596788",
     "status": "completed"
    },
    "tags": []
   },
   "outputs": [
    {
     "data": {
      "text/plain": [
       "index                  0\n",
       "Order ID               0\n",
       "Date                   0\n",
       "Status                 0\n",
       "Fulfilment             0\n",
       "Sales Channel          0\n",
       "ship-service-level     0\n",
       "Style                  0\n",
       "SKU                    0\n",
       "Category               0\n",
       "Size                   0\n",
       "ASIN                   0\n",
       "Courier Status         0\n",
       "Qty                    0\n",
       "currency               0\n",
       "Amount                 0\n",
       "ship-city              0\n",
       "ship-state             0\n",
       "ship-postal-code       0\n",
       "ship-country           0\n",
       "promotion-ids          0\n",
       "B2B                    0\n",
       "fulfilled-by          83\n",
       "Unnamed: 22            0\n",
       "dtype: int64"
      ]
     },
     "execution_count": 6,
     "metadata": {},
     "output_type": "execute_result"
    }
   ],
   "source": [
    "df.isnull().sum()"
   ]
  },
  {
   "cell_type": "code",
   "execution_count": 7,
   "id": "99881744",
   "metadata": {
    "execution": {
     "iopub.execute_input": "2023-02-06T18:49:52.703584Z",
     "iopub.status.busy": "2023-02-06T18:49:52.703224Z",
     "iopub.status.idle": "2023-02-06T18:49:52.863924Z",
     "shell.execute_reply": "2023-02-06T18:49:52.863265Z"
    },
    "papermill": {
     "duration": 0.167687,
     "end_time": "2023-02-06T18:49:52.866127",
     "exception": false,
     "start_time": "2023-02-06T18:49:52.698440",
     "status": "completed"
    },
    "tags": []
   },
   "outputs": [],
   "source": [
    "df=df.fillna(0)"
   ]
  },
  {
   "cell_type": "code",
   "execution_count": 8,
   "id": "7874e381",
   "metadata": {
    "execution": {
     "iopub.execute_input": "2023-02-06T18:49:52.875681Z",
     "iopub.status.busy": "2023-02-06T18:49:52.875188Z",
     "iopub.status.idle": "2023-02-06T18:49:52.881087Z",
     "shell.execute_reply": "2023-02-06T18:49:52.880506Z"
    },
    "papermill": {
     "duration": 0.012898,
     "end_time": "2023-02-06T18:49:52.883185",
     "exception": false,
     "start_time": "2023-02-06T18:49:52.870287",
     "status": "completed"
    },
    "tags": []
   },
   "outputs": [
    {
     "data": {
      "text/plain": [
       "index                   int64\n",
       "Order ID               object\n",
       "Date                   object\n",
       "Status                 object\n",
       "Fulfilment             object\n",
       "Sales Channel          object\n",
       "ship-service-level     object\n",
       "Style                  object\n",
       "SKU                    object\n",
       "Category               object\n",
       "Size                   object\n",
       "ASIN                   object\n",
       "Courier Status         object\n",
       "Qty                     int64\n",
       "currency               object\n",
       "Amount                float64\n",
       "ship-city              object\n",
       "ship-state             object\n",
       "ship-postal-code      float64\n",
       "ship-country           object\n",
       "promotion-ids          object\n",
       "B2B                      bool\n",
       "fulfilled-by           object\n",
       "Unnamed: 22              bool\n",
       "dtype: object"
      ]
     },
     "execution_count": 8,
     "metadata": {},
     "output_type": "execute_result"
    }
   ],
   "source": [
    "df.dtypes"
   ]
  },
  {
   "cell_type": "code",
   "execution_count": 9,
   "id": "d3c053ee",
   "metadata": {
    "execution": {
     "iopub.execute_input": "2023-02-06T18:49:52.893583Z",
     "iopub.status.busy": "2023-02-06T18:49:52.892471Z",
     "iopub.status.idle": "2023-02-06T18:49:52.973353Z",
     "shell.execute_reply": "2023-02-06T18:49:52.972277Z"
    },
    "papermill": {
     "duration": 0.088086,
     "end_time": "2023-02-06T18:49:52.975559",
     "exception": false,
     "start_time": "2023-02-06T18:49:52.887473",
     "status": "completed"
    },
    "tags": []
   },
   "outputs": [
    {
     "data": {
      "text/html": [
       "<div>\n",
       "<style scoped>\n",
       "    .dataframe tbody tr th:only-of-type {\n",
       "        vertical-align: middle;\n",
       "    }\n",
       "\n",
       "    .dataframe tbody tr th {\n",
       "        vertical-align: top;\n",
       "    }\n",
       "\n",
       "    .dataframe thead th {\n",
       "        text-align: right;\n",
       "    }\n",
       "</style>\n",
       "<table border=\"1\" class=\"dataframe\">\n",
       "  <thead>\n",
       "    <tr style=\"text-align: right;\">\n",
       "      <th></th>\n",
       "      <th>Qty</th>\n",
       "      <th>Amount</th>\n",
       "    </tr>\n",
       "    <tr>\n",
       "      <th>Fulfilment</th>\n",
       "      <th></th>\n",
       "      <th></th>\n",
       "    </tr>\n",
       "  </thead>\n",
       "  <tbody>\n",
       "    <tr>\n",
       "      <th>Amazon</th>\n",
       "      <td>0.937446</td>\n",
       "      <td>649.273232</td>\n",
       "    </tr>\n",
       "    <tr>\n",
       "      <th>Merchant</th>\n",
       "      <td>0.829035</td>\n",
       "      <td>646.859903</td>\n",
       "    </tr>\n",
       "  </tbody>\n",
       "</table>\n",
       "</div>"
      ],
      "text/plain": [
       "                 Qty      Amount\n",
       "Fulfilment                      \n",
       "Amazon      0.937446  649.273232\n",
       "Merchant    0.829035  646.859903"
      ]
     },
     "execution_count": 9,
     "metadata": {},
     "output_type": "execute_result"
    }
   ],
   "source": [
    "df[['Qty','Amount']].groupby(df['Fulfilment']).mean()"
   ]
  },
  {
   "cell_type": "code",
   "execution_count": 10,
   "id": "db5b127d",
   "metadata": {
    "execution": {
     "iopub.execute_input": "2023-02-06T18:49:52.985801Z",
     "iopub.status.busy": "2023-02-06T18:49:52.985423Z",
     "iopub.status.idle": "2023-02-06T18:49:53.009705Z",
     "shell.execute_reply": "2023-02-06T18:49:53.008077Z"
    },
    "papermill": {
     "duration": 0.031954,
     "end_time": "2023-02-06T18:49:53.011874",
     "exception": false,
     "start_time": "2023-02-06T18:49:52.979920",
     "status": "completed"
    },
    "tags": []
   },
   "outputs": [
    {
     "data": {
      "text/plain": [
       "Fulfilment\n",
       "Amazon      58238510.40\n",
       "Merchant    25406716.41\n",
       "Name: Amount, dtype: float64"
      ]
     },
     "execution_count": 10,
     "metadata": {},
     "output_type": "execute_result"
    }
   ],
   "source": [
    "df['Amount'].groupby(df['Fulfilment']).sum()"
   ]
  },
  {
   "cell_type": "code",
   "execution_count": 11,
   "id": "fef4ae2d",
   "metadata": {
    "execution": {
     "iopub.execute_input": "2023-02-06T18:49:53.022034Z",
     "iopub.status.busy": "2023-02-06T18:49:53.021619Z",
     "iopub.status.idle": "2023-02-06T18:49:53.039503Z",
     "shell.execute_reply": "2023-02-06T18:49:53.038383Z"
    },
    "papermill": {
     "duration": 0.024886,
     "end_time": "2023-02-06T18:49:53.041249",
     "exception": false,
     "start_time": "2023-02-06T18:49:53.016363",
     "status": "completed"
    },
    "tags": []
   },
   "outputs": [
    {
     "data": {
      "text/plain": [
       "Category\n",
       "Blouse             926\n",
       "Bottom             440\n",
       "Dupatta              3\n",
       "Ethnic Dress      1159\n",
       "Saree              164\n",
       "Set              50284\n",
       "Top              10622\n",
       "Western Dress    15500\n",
       "kurta            49877\n",
       "Name: Amount, dtype: int64"
      ]
     },
     "execution_count": 11,
     "metadata": {},
     "output_type": "execute_result"
    }
   ],
   "source": [
    "df['Amount'].groupby(df['Category']).count()"
   ]
  },
  {
   "cell_type": "code",
   "execution_count": 12,
   "id": "eb1b7961",
   "metadata": {
    "execution": {
     "iopub.execute_input": "2023-02-06T18:49:53.051796Z",
     "iopub.status.busy": "2023-02-06T18:49:53.050787Z",
     "iopub.status.idle": "2023-02-06T18:49:53.138319Z",
     "shell.execute_reply": "2023-02-06T18:49:53.137334Z"
    },
    "papermill": {
     "duration": 0.094529,
     "end_time": "2023-02-06T18:49:53.140053",
     "exception": false,
     "start_time": "2023-02-06T18:49:53.045524",
     "status": "completed"
    },
    "tags": []
   },
   "outputs": [
    {
     "data": {
      "text/html": [
       "<div>\n",
       "<style scoped>\n",
       "    .dataframe tbody tr th:only-of-type {\n",
       "        vertical-align: middle;\n",
       "    }\n",
       "\n",
       "    .dataframe tbody tr th {\n",
       "        vertical-align: top;\n",
       "    }\n",
       "\n",
       "    .dataframe thead th {\n",
       "        text-align: right;\n",
       "    }\n",
       "</style>\n",
       "<table border=\"1\" class=\"dataframe\">\n",
       "  <thead>\n",
       "    <tr style=\"text-align: right;\">\n",
       "      <th></th>\n",
       "      <th>index</th>\n",
       "      <th>DATE</th>\n",
       "      <th>Months</th>\n",
       "      <th>CUSTOMER</th>\n",
       "      <th>Style</th>\n",
       "      <th>SKU</th>\n",
       "      <th>Size</th>\n",
       "      <th>PCS</th>\n",
       "      <th>RATE</th>\n",
       "      <th>GROSS AMT</th>\n",
       "    </tr>\n",
       "  </thead>\n",
       "  <tbody>\n",
       "    <tr>\n",
       "      <th>0</th>\n",
       "      <td>0</td>\n",
       "      <td>06-05-21</td>\n",
       "      <td>Jun-21</td>\n",
       "      <td>REVATHY LOGANATHAN</td>\n",
       "      <td>MEN5004</td>\n",
       "      <td>MEN5004-KR-L</td>\n",
       "      <td>L</td>\n",
       "      <td>1.00</td>\n",
       "      <td>616.56</td>\n",
       "      <td>617.00</td>\n",
       "    </tr>\n",
       "    <tr>\n",
       "      <th>1</th>\n",
       "      <td>1</td>\n",
       "      <td>06-05-21</td>\n",
       "      <td>Jun-21</td>\n",
       "      <td>REVATHY LOGANATHAN</td>\n",
       "      <td>MEN5004</td>\n",
       "      <td>MEN5004-KR-XL</td>\n",
       "      <td>XL</td>\n",
       "      <td>1.00</td>\n",
       "      <td>616.56</td>\n",
       "      <td>617.00</td>\n",
       "    </tr>\n",
       "    <tr>\n",
       "      <th>2</th>\n",
       "      <td>2</td>\n",
       "      <td>06-05-21</td>\n",
       "      <td>Jun-21</td>\n",
       "      <td>REVATHY LOGANATHAN</td>\n",
       "      <td>MEN5004</td>\n",
       "      <td>MEN5004-KR-XXL</td>\n",
       "      <td>XXL</td>\n",
       "      <td>1.00</td>\n",
       "      <td>616.56</td>\n",
       "      <td>617.00</td>\n",
       "    </tr>\n",
       "    <tr>\n",
       "      <th>3</th>\n",
       "      <td>3</td>\n",
       "      <td>06-05-21</td>\n",
       "      <td>Jun-21</td>\n",
       "      <td>REVATHY LOGANATHAN</td>\n",
       "      <td>MEN5009</td>\n",
       "      <td>MEN5009-KR-L</td>\n",
       "      <td>L</td>\n",
       "      <td>1.00</td>\n",
       "      <td>616.56</td>\n",
       "      <td>617.00</td>\n",
       "    </tr>\n",
       "    <tr>\n",
       "      <th>4</th>\n",
       "      <td>4</td>\n",
       "      <td>06-05-21</td>\n",
       "      <td>Jun-21</td>\n",
       "      <td>REVATHY LOGANATHAN</td>\n",
       "      <td>MEN5011</td>\n",
       "      <td>MEN5011-KR-L</td>\n",
       "      <td>L</td>\n",
       "      <td>1.00</td>\n",
       "      <td>616.56</td>\n",
       "      <td>617.00</td>\n",
       "    </tr>\n",
       "  </tbody>\n",
       "</table>\n",
       "</div>"
      ],
      "text/plain": [
       "   index      DATE  Months            CUSTOMER    Style             SKU Size  \\\n",
       "0      0  06-05-21  Jun-21  REVATHY LOGANATHAN  MEN5004    MEN5004-KR-L    L   \n",
       "1      1  06-05-21  Jun-21  REVATHY LOGANATHAN  MEN5004   MEN5004-KR-XL   XL   \n",
       "2      2  06-05-21  Jun-21  REVATHY LOGANATHAN  MEN5004  MEN5004-KR-XXL  XXL   \n",
       "3      3  06-05-21  Jun-21  REVATHY LOGANATHAN  MEN5009    MEN5009-KR-L    L   \n",
       "4      4  06-05-21  Jun-21  REVATHY LOGANATHAN  MEN5011    MEN5011-KR-L    L   \n",
       "\n",
       "    PCS    RATE GROSS AMT  \n",
       "0  1.00  616.56    617.00  \n",
       "1  1.00  616.56    617.00  \n",
       "2  1.00  616.56    617.00  \n",
       "3  1.00  616.56    617.00  \n",
       "4  1.00  616.56    617.00  "
      ]
     },
     "execution_count": 12,
     "metadata": {},
     "output_type": "execute_result"
    }
   ],
   "source": [
    "df1 = pd.read_csv('/kaggle/input/unlock-profits-with-e-commerce-sales-data/International sale Report.csv')\n",
    "df1.head()"
   ]
  }
 ],
 "metadata": {
  "kernelspec": {
   "display_name": "Python 3",
   "language": "python",
   "name": "python3"
  },
  "language_info": {
   "codemirror_mode": {
    "name": "ipython",
    "version": 3
   },
   "file_extension": ".py",
   "mimetype": "text/x-python",
   "name": "python",
   "nbconvert_exporter": "python",
   "pygments_lexer": "ipython3",
   "version": "3.7.12"
  },
  "papermill": {
   "default_parameters": {},
   "duration": 10.142962,
   "end_time": "2023-02-06T18:49:53.763601",
   "environment_variables": {},
   "exception": null,
   "input_path": "__notebook__.ipynb",
   "output_path": "__notebook__.ipynb",
   "parameters": {},
   "start_time": "2023-02-06T18:49:43.620639",
   "version": "2.3.4"
  }
 },
 "nbformat": 4,
 "nbformat_minor": 5
}
