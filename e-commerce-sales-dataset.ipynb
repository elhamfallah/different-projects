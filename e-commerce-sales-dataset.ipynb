{
 "cells": [
  {
   "cell_type": "code",
   "execution_count": 1,
   "id": "2daeb45c",
   "metadata": {
    "_cell_guid": "b1076dfc-b9ad-4769-8c92-a6c4dae69d19",
    "_uuid": "8f2839f25d086af736a60e9eeb907d3b93b6e0e5",
    "execution": {
     "iopub.execute_input": "2023-02-06T17:51:55.048343Z",
     "iopub.status.busy": "2023-02-06T17:51:55.046474Z",
     "iopub.status.idle": "2023-02-06T17:51:55.063957Z",
     "shell.execute_reply": "2023-02-06T17:51:55.062783Z"
    },
    "papermill": {
     "duration": 0.030782,
     "end_time": "2023-02-06T17:51:55.067205",
     "exception": false,
     "start_time": "2023-02-06T17:51:55.036423",
     "status": "completed"
    },
    "tags": []
   },
   "outputs": [],
   "source": [
    "\n",
    "import numpy as np # linear algebra\n",
    "import pandas as pd # data processing, CSV file I/O (e.g. pd.read_csv)\n",
    "import warnings\n",
    "warnings.filterwarnings('ignore')"
   ]
  },
  {
   "cell_type": "code",
   "execution_count": 2,
   "id": "7563db8b",
   "metadata": {
    "execution": {
     "iopub.execute_input": "2023-02-06T17:51:55.078244Z",
     "iopub.status.busy": "2023-02-06T17:51:55.077340Z",
     "iopub.status.idle": "2023-02-06T17:51:57.534331Z",
     "shell.execute_reply": "2023-02-06T17:51:57.533082Z"
    },
    "papermill": {
     "duration": 2.465669,
     "end_time": "2023-02-06T17:51:57.537198",
     "exception": false,
     "start_time": "2023-02-06T17:51:55.071529",
     "status": "completed"
    },
    "tags": []
   },
   "outputs": [
    {
     "data": {
      "text/html": [
       "<div>\n",
       "<style scoped>\n",
       "    .dataframe tbody tr th:only-of-type {\n",
       "        vertical-align: middle;\n",
       "    }\n",
       "\n",
       "    .dataframe tbody tr th {\n",
       "        vertical-align: top;\n",
       "    }\n",
       "\n",
       "    .dataframe thead th {\n",
       "        text-align: right;\n",
       "    }\n",
       "</style>\n",
       "<table border=\"1\" class=\"dataframe\">\n",
       "  <thead>\n",
       "    <tr style=\"text-align: right;\">\n",
       "      <th></th>\n",
       "      <th>index</th>\n",
       "      <th>Order ID</th>\n",
       "      <th>Date</th>\n",
       "      <th>Status</th>\n",
       "      <th>Fulfilment</th>\n",
       "      <th>Sales Channel</th>\n",
       "      <th>ship-service-level</th>\n",
       "      <th>Style</th>\n",
       "      <th>SKU</th>\n",
       "      <th>Category</th>\n",
       "      <th>...</th>\n",
       "      <th>currency</th>\n",
       "      <th>Amount</th>\n",
       "      <th>ship-city</th>\n",
       "      <th>ship-state</th>\n",
       "      <th>ship-postal-code</th>\n",
       "      <th>ship-country</th>\n",
       "      <th>promotion-ids</th>\n",
       "      <th>B2B</th>\n",
       "      <th>fulfilled-by</th>\n",
       "      <th>Unnamed: 22</th>\n",
       "    </tr>\n",
       "  </thead>\n",
       "  <tbody>\n",
       "    <tr>\n",
       "      <th>26642</th>\n",
       "      <td>26642</td>\n",
       "      <td>403-0430829-6769922</td>\n",
       "      <td>04-14-22</td>\n",
       "      <td>Shipped</td>\n",
       "      <td>Amazon</td>\n",
       "      <td>Amazon.in</td>\n",
       "      <td>Expedited</td>\n",
       "      <td>SET250</td>\n",
       "      <td>SET250-KR-SHA-M</td>\n",
       "      <td>Set</td>\n",
       "      <td>...</td>\n",
       "      <td>INR</td>\n",
       "      <td>680.00</td>\n",
       "      <td>DOHAD</td>\n",
       "      <td>Gujarat</td>\n",
       "      <td>389151.0</td>\n",
       "      <td>IN</td>\n",
       "      <td>IN Core Free Shipping 2015/04/08 23-48-5-108</td>\n",
       "      <td>False</td>\n",
       "      <td>NaN</td>\n",
       "      <td>NaN</td>\n",
       "    </tr>\n",
       "    <tr>\n",
       "      <th>13632</th>\n",
       "      <td>13632</td>\n",
       "      <td>404-4470079-4345912</td>\n",
       "      <td>04-22-22</td>\n",
       "      <td>Shipped</td>\n",
       "      <td>Amazon</td>\n",
       "      <td>Amazon.in</td>\n",
       "      <td>Expedited</td>\n",
       "      <td>SET380</td>\n",
       "      <td>SET380-KR-NP-XL</td>\n",
       "      <td>Set</td>\n",
       "      <td>...</td>\n",
       "      <td>INR</td>\n",
       "      <td>995.00</td>\n",
       "      <td>GURUGRAM</td>\n",
       "      <td>HARYANA</td>\n",
       "      <td>122018.0</td>\n",
       "      <td>IN</td>\n",
       "      <td>IN Core Free Shipping 2015/04/08 23-48-5-108</td>\n",
       "      <td>False</td>\n",
       "      <td>NaN</td>\n",
       "      <td>NaN</td>\n",
       "    </tr>\n",
       "    <tr>\n",
       "      <th>128235</th>\n",
       "      <td>128235</td>\n",
       "      <td>403-6784175-3575503</td>\n",
       "      <td>06-01-22</td>\n",
       "      <td>Shipped</td>\n",
       "      <td>Amazon</td>\n",
       "      <td>Amazon.in</td>\n",
       "      <td>Expedited</td>\n",
       "      <td>SET251</td>\n",
       "      <td>SET251-KR-PP-M</td>\n",
       "      <td>Set</td>\n",
       "      <td>...</td>\n",
       "      <td>INR</td>\n",
       "      <td>759.00</td>\n",
       "      <td>HYDERABAD</td>\n",
       "      <td>TELANGANA</td>\n",
       "      <td>500017.0</td>\n",
       "      <td>IN</td>\n",
       "      <td>NaN</td>\n",
       "      <td>False</td>\n",
       "      <td>NaN</td>\n",
       "      <td>False</td>\n",
       "    </tr>\n",
       "    <tr>\n",
       "      <th>92369</th>\n",
       "      <td>92369</td>\n",
       "      <td>406-3065039-5703543</td>\n",
       "      <td>06-28-22</td>\n",
       "      <td>Shipped</td>\n",
       "      <td>Amazon</td>\n",
       "      <td>Amazon.in</td>\n",
       "      <td>Expedited</td>\n",
       "      <td>SET350</td>\n",
       "      <td>SET350-KR-NP-XXL</td>\n",
       "      <td>Set</td>\n",
       "      <td>...</td>\n",
       "      <td>INR</td>\n",
       "      <td>1122.00</td>\n",
       "      <td>PATNA</td>\n",
       "      <td>BIHAR</td>\n",
       "      <td>801505.0</td>\n",
       "      <td>IN</td>\n",
       "      <td>IN Core Free Shipping 2015/04/08 23-48-5-108</td>\n",
       "      <td>False</td>\n",
       "      <td>NaN</td>\n",
       "      <td>False</td>\n",
       "    </tr>\n",
       "    <tr>\n",
       "      <th>30042</th>\n",
       "      <td>30042</td>\n",
       "      <td>408-9629355-5589116</td>\n",
       "      <td>04-12-22</td>\n",
       "      <td>Cancelled</td>\n",
       "      <td>Merchant</td>\n",
       "      <td>Amazon.in</td>\n",
       "      <td>Standard</td>\n",
       "      <td>SET375</td>\n",
       "      <td>SET375-KR-NP-L</td>\n",
       "      <td>Set</td>\n",
       "      <td>...</td>\n",
       "      <td>INR</td>\n",
       "      <td>662.86</td>\n",
       "      <td>HYDERABAD</td>\n",
       "      <td>TELANGANA</td>\n",
       "      <td>500029.0</td>\n",
       "      <td>IN</td>\n",
       "      <td>NaN</td>\n",
       "      <td>False</td>\n",
       "      <td>Easy Ship</td>\n",
       "      <td>NaN</td>\n",
       "    </tr>\n",
       "  </tbody>\n",
       "</table>\n",
       "<p>5 rows × 24 columns</p>\n",
       "</div>"
      ],
      "text/plain": [
       "         index             Order ID      Date     Status Fulfilment  \\\n",
       "26642    26642  403-0430829-6769922  04-14-22    Shipped     Amazon   \n",
       "13632    13632  404-4470079-4345912  04-22-22    Shipped     Amazon   \n",
       "128235  128235  403-6784175-3575503  06-01-22    Shipped     Amazon   \n",
       "92369    92369  406-3065039-5703543  06-28-22    Shipped     Amazon   \n",
       "30042    30042  408-9629355-5589116  04-12-22  Cancelled   Merchant   \n",
       "\n",
       "       Sales Channel  ship-service-level   Style               SKU Category  \\\n",
       "26642       Amazon.in          Expedited  SET250   SET250-KR-SHA-M      Set   \n",
       "13632       Amazon.in          Expedited  SET380   SET380-KR-NP-XL      Set   \n",
       "128235      Amazon.in          Expedited  SET251    SET251-KR-PP-M      Set   \n",
       "92369       Amazon.in          Expedited  SET350  SET350-KR-NP-XXL      Set   \n",
       "30042       Amazon.in           Standard  SET375    SET375-KR-NP-L      Set   \n",
       "\n",
       "        ... currency   Amount  ship-city  ship-state ship-postal-code  \\\n",
       "26642   ...      INR   680.00      DOHAD     Gujarat         389151.0   \n",
       "13632   ...      INR   995.00   GURUGRAM     HARYANA         122018.0   \n",
       "128235  ...      INR   759.00  HYDERABAD   TELANGANA         500017.0   \n",
       "92369   ...      INR  1122.00      PATNA       BIHAR         801505.0   \n",
       "30042   ...      INR   662.86  HYDERABAD   TELANGANA         500029.0   \n",
       "\n",
       "        ship-country                                 promotion-ids    B2B  \\\n",
       "26642             IN  IN Core Free Shipping 2015/04/08 23-48-5-108  False   \n",
       "13632             IN  IN Core Free Shipping 2015/04/08 23-48-5-108  False   \n",
       "128235            IN                                           NaN  False   \n",
       "92369             IN  IN Core Free Shipping 2015/04/08 23-48-5-108  False   \n",
       "30042             IN                                           NaN  False   \n",
       "\n",
       "        fulfilled-by Unnamed: 22  \n",
       "26642            NaN         NaN  \n",
       "13632            NaN         NaN  \n",
       "128235           NaN       False  \n",
       "92369            NaN       False  \n",
       "30042      Easy Ship         NaN  \n",
       "\n",
       "[5 rows x 24 columns]"
      ]
     },
     "execution_count": 2,
     "metadata": {},
     "output_type": "execute_result"
    }
   ],
   "source": [
    "df=pd.read_csv('/kaggle/input/unlock-profits-with-e-commerce-sales-data/Amazon Sale Report.csv')\n",
    "df.sample(5)"
   ]
  },
  {
   "cell_type": "code",
   "execution_count": 3,
   "id": "24c11058",
   "metadata": {
    "execution": {
     "iopub.execute_input": "2023-02-06T17:51:57.547633Z",
     "iopub.status.busy": "2023-02-06T17:51:57.547205Z",
     "iopub.status.idle": "2023-02-06T17:51:57.650756Z",
     "shell.execute_reply": "2023-02-06T17:51:57.649586Z"
    },
    "papermill": {
     "duration": 0.111794,
     "end_time": "2023-02-06T17:51:57.653338",
     "exception": false,
     "start_time": "2023-02-06T17:51:57.541544",
     "status": "completed"
    },
    "tags": []
   },
   "outputs": [
    {
     "data": {
      "text/plain": [
       "<bound method DataFrame.info of          index             Order ID      Date                        Status  \\\n",
       "0            0  405-8078784-5731545  04-30-22                     Cancelled   \n",
       "1            1  171-9198151-1101146  04-30-22  Shipped - Delivered to Buyer   \n",
       "2            2  404-0687676-7273146  04-30-22                       Shipped   \n",
       "3            3  403-9615377-8133951  04-30-22                     Cancelled   \n",
       "4            4  407-1069790-7240320  04-30-22                       Shipped   \n",
       "...        ...                  ...       ...                           ...   \n",
       "128970  128970  406-6001380-7673107  05-31-22                       Shipped   \n",
       "128971  128971  402-9551604-7544318  05-31-22                       Shipped   \n",
       "128972  128972  407-9547469-3152358  05-31-22                       Shipped   \n",
       "128973  128973  402-6184140-0545956  05-31-22                       Shipped   \n",
       "128974  128974  408-7436540-8728312  05-31-22                       Shipped   \n",
       "\n",
       "       Fulfilment Sales Channel  ship-service-level    Style              SKU  \\\n",
       "0        Merchant      Amazon.in           Standard   SET389   SET389-KR-NP-S   \n",
       "1        Merchant      Amazon.in           Standard  JNE3781  JNE3781-KR-XXXL   \n",
       "2          Amazon      Amazon.in          Expedited  JNE3371    JNE3371-KR-XL   \n",
       "3        Merchant      Amazon.in           Standard    J0341       J0341-DR-L   \n",
       "4          Amazon      Amazon.in          Expedited  JNE3671  JNE3671-TU-XXXL   \n",
       "...           ...            ...                ...      ...              ...   \n",
       "128970     Amazon      Amazon.in          Expedited  JNE3697    JNE3697-KR-XL   \n",
       "128971     Amazon      Amazon.in          Expedited   SET401   SET401-KR-NP-M   \n",
       "128972     Amazon      Amazon.in          Expedited    J0157     J0157-DR-XXL   \n",
       "128973     Amazon      Amazon.in          Expedited    J0012     J0012-SKD-XS   \n",
       "128974     Amazon      Amazon.in          Expedited    J0003      J0003-SET-S   \n",
       "\n",
       "             Category  ... currency   Amount    ship-city    ship-state  \\\n",
       "0                 Set  ...      INR   647.62       MUMBAI   MAHARASHTRA   \n",
       "1               kurta  ...      INR   406.00    BENGALURU     KARNATAKA   \n",
       "2               kurta  ...      INR   329.00  NAVI MUMBAI   MAHARASHTRA   \n",
       "3       Western Dress  ...      INR   753.33   PUDUCHERRY    PUDUCHERRY   \n",
       "4                 Top  ...      INR   574.00      CHENNAI    TAMIL NADU   \n",
       "...               ...  ...      ...      ...          ...           ...   \n",
       "128970          kurta  ...      INR   517.00    HYDERABAD     TELANGANA   \n",
       "128971            Set  ...      INR   999.00     GURUGRAM       HARYANA   \n",
       "128972  Western Dress  ...      INR   690.00    HYDERABAD     TELANGANA   \n",
       "128973            Set  ...      INR  1199.00        Halol       Gujarat   \n",
       "128974            Set  ...      INR   696.00       Raipur  CHHATTISGARH   \n",
       "\n",
       "       ship-postal-code  ship-country  \\\n",
       "0              400081.0            IN   \n",
       "1              560085.0            IN   \n",
       "2              410210.0            IN   \n",
       "3              605008.0            IN   \n",
       "4              600073.0            IN   \n",
       "...                 ...           ...   \n",
       "128970         500013.0            IN   \n",
       "128971         122004.0            IN   \n",
       "128972         500049.0            IN   \n",
       "128973         389350.0            IN   \n",
       "128974         492014.0            IN   \n",
       "\n",
       "                                            promotion-ids    B2B  \\\n",
       "0                                                     NaN  False   \n",
       "1       Amazon PLCC Free-Financing Universal Merchant ...  False   \n",
       "2            IN Core Free Shipping 2015/04/08 23-48-5-108   True   \n",
       "3                                                     NaN  False   \n",
       "4                                                     NaN  False   \n",
       "...                                                   ...    ...   \n",
       "128970                                                NaN  False   \n",
       "128971       IN Core Free Shipping 2015/04/08 23-48-5-108  False   \n",
       "128972                                                NaN  False   \n",
       "128973       IN Core Free Shipping 2015/04/08 23-48-5-108  False   \n",
       "128974       IN Core Free Shipping 2015/04/08 23-48-5-108  False   \n",
       "\n",
       "        fulfilled-by Unnamed: 22  \n",
       "0          Easy Ship         NaN  \n",
       "1          Easy Ship         NaN  \n",
       "2                NaN         NaN  \n",
       "3          Easy Ship         NaN  \n",
       "4                NaN         NaN  \n",
       "...              ...         ...  \n",
       "128970           NaN       False  \n",
       "128971           NaN       False  \n",
       "128972           NaN       False  \n",
       "128973           NaN       False  \n",
       "128974           NaN       False  \n",
       "\n",
       "[128975 rows x 24 columns]>"
      ]
     },
     "execution_count": 3,
     "metadata": {},
     "output_type": "execute_result"
    }
   ],
   "source": [
    "df.info"
   ]
  },
  {
   "cell_type": "code",
   "execution_count": 4,
   "id": "b14bb41b",
   "metadata": {
    "execution": {
     "iopub.execute_input": "2023-02-06T17:51:57.664712Z",
     "iopub.status.busy": "2023-02-06T17:51:57.664201Z",
     "iopub.status.idle": "2023-02-06T17:51:57.780854Z",
     "shell.execute_reply": "2023-02-06T17:51:57.779676Z"
    },
    "papermill": {
     "duration": 0.125141,
     "end_time": "2023-02-06T17:51:57.783325",
     "exception": false,
     "start_time": "2023-02-06T17:51:57.658184",
     "status": "completed"
    },
    "tags": []
   },
   "outputs": [
    {
     "data": {
      "text/plain": [
       "index                     0\n",
       "Order ID                  0\n",
       "Date                      0\n",
       "Status                    0\n",
       "Fulfilment                0\n",
       "Sales Channel             0\n",
       "ship-service-level        0\n",
       "Style                     0\n",
       "SKU                       0\n",
       "Category                  0\n",
       "Size                      0\n",
       "ASIN                      0\n",
       "Courier Status         6872\n",
       "Qty                       0\n",
       "currency               7795\n",
       "Amount                 7795\n",
       "ship-city                33\n",
       "ship-state               33\n",
       "ship-postal-code         33\n",
       "ship-country             33\n",
       "promotion-ids         49153\n",
       "B2B                       0\n",
       "fulfilled-by          89698\n",
       "Unnamed: 22           49050\n",
       "dtype: int64"
      ]
     },
     "execution_count": 4,
     "metadata": {},
     "output_type": "execute_result"
    }
   ],
   "source": [
    "df.isnull().sum()"
   ]
  },
  {
   "cell_type": "code",
   "execution_count": 5,
   "id": "a6a701d0",
   "metadata": {
    "execution": {
     "iopub.execute_input": "2023-02-06T17:51:57.795103Z",
     "iopub.status.busy": "2023-02-06T17:51:57.794116Z",
     "iopub.status.idle": "2023-02-06T17:51:57.975135Z",
     "shell.execute_reply": "2023-02-06T17:51:57.973772Z"
    },
    "papermill": {
     "duration": 0.189847,
     "end_time": "2023-02-06T17:51:57.977961",
     "exception": false,
     "start_time": "2023-02-06T17:51:57.788114",
     "status": "completed"
    },
    "tags": []
   },
   "outputs": [],
   "source": [
    "df=df.fillna(method = 'bfill', axis=0)"
   ]
  },
  {
   "cell_type": "code",
   "execution_count": 6,
   "id": "7a08f444",
   "metadata": {
    "execution": {
     "iopub.execute_input": "2023-02-06T17:51:57.989460Z",
     "iopub.status.busy": "2023-02-06T17:51:57.988992Z",
     "iopub.status.idle": "2023-02-06T17:51:58.104658Z",
     "shell.execute_reply": "2023-02-06T17:51:58.103444Z"
    },
    "papermill": {
     "duration": 0.124726,
     "end_time": "2023-02-06T17:51:58.107318",
     "exception": false,
     "start_time": "2023-02-06T17:51:57.982592",
     "status": "completed"
    },
    "tags": []
   },
   "outputs": [
    {
     "data": {
      "text/plain": [
       "index                  0\n",
       "Order ID               0\n",
       "Date                   0\n",
       "Status                 0\n",
       "Fulfilment             0\n",
       "Sales Channel          0\n",
       "ship-service-level     0\n",
       "Style                  0\n",
       "SKU                    0\n",
       "Category               0\n",
       "Size                   0\n",
       "ASIN                   0\n",
       "Courier Status         0\n",
       "Qty                    0\n",
       "currency               0\n",
       "Amount                 0\n",
       "ship-city              0\n",
       "ship-state             0\n",
       "ship-postal-code       0\n",
       "ship-country           0\n",
       "promotion-ids          0\n",
       "B2B                    0\n",
       "fulfilled-by          83\n",
       "Unnamed: 22            0\n",
       "dtype: int64"
      ]
     },
     "execution_count": 6,
     "metadata": {},
     "output_type": "execute_result"
    }
   ],
   "source": [
    "df.isnull().sum()"
   ]
  },
  {
   "cell_type": "code",
   "execution_count": 7,
   "id": "06e1db20",
   "metadata": {
    "execution": {
     "iopub.execute_input": "2023-02-06T17:51:58.118488Z",
     "iopub.status.busy": "2023-02-06T17:51:58.118042Z",
     "iopub.status.idle": "2023-02-06T17:51:58.374875Z",
     "shell.execute_reply": "2023-02-06T17:51:58.373345Z"
    },
    "papermill": {
     "duration": 0.265774,
     "end_time": "2023-02-06T17:51:58.377834",
     "exception": false,
     "start_time": "2023-02-06T17:51:58.112060",
     "status": "completed"
    },
    "tags": []
   },
   "outputs": [],
   "source": [
    "df=df.fillna(0)"
   ]
  },
  {
   "cell_type": "code",
   "execution_count": 8,
   "id": "152be441",
   "metadata": {
    "execution": {
     "iopub.execute_input": "2023-02-06T17:51:58.389466Z",
     "iopub.status.busy": "2023-02-06T17:51:58.389040Z",
     "iopub.status.idle": "2023-02-06T17:51:58.398096Z",
     "shell.execute_reply": "2023-02-06T17:51:58.396745Z"
    },
    "papermill": {
     "duration": 0.018451,
     "end_time": "2023-02-06T17:51:58.401068",
     "exception": false,
     "start_time": "2023-02-06T17:51:58.382617",
     "status": "completed"
    },
    "tags": []
   },
   "outputs": [
    {
     "data": {
      "text/plain": [
       "index                   int64\n",
       "Order ID               object\n",
       "Date                   object\n",
       "Status                 object\n",
       "Fulfilment             object\n",
       "Sales Channel          object\n",
       "ship-service-level     object\n",
       "Style                  object\n",
       "SKU                    object\n",
       "Category               object\n",
       "Size                   object\n",
       "ASIN                   object\n",
       "Courier Status         object\n",
       "Qty                     int64\n",
       "currency               object\n",
       "Amount                float64\n",
       "ship-city              object\n",
       "ship-state             object\n",
       "ship-postal-code      float64\n",
       "ship-country           object\n",
       "promotion-ids          object\n",
       "B2B                      bool\n",
       "fulfilled-by           object\n",
       "Unnamed: 22              bool\n",
       "dtype: object"
      ]
     },
     "execution_count": 8,
     "metadata": {},
     "output_type": "execute_result"
    }
   ],
   "source": [
    "df.dtypes"
   ]
  },
  {
   "cell_type": "code",
   "execution_count": null,
   "id": "bbd90172",
   "metadata": {
    "papermill": {
     "duration": 0.004562,
     "end_time": "2023-02-06T17:51:58.410659",
     "exception": false,
     "start_time": "2023-02-06T17:51:58.406097",
     "status": "completed"
    },
    "tags": []
   },
   "outputs": [],
   "source": []
  },
  {
   "cell_type": "code",
   "execution_count": 9,
   "id": "65fa4a4e",
   "metadata": {
    "execution": {
     "iopub.execute_input": "2023-02-06T17:51:58.422337Z",
     "iopub.status.busy": "2023-02-06T17:51:58.421920Z",
     "iopub.status.idle": "2023-02-06T17:51:58.451679Z",
     "shell.execute_reply": "2023-02-06T17:51:58.450506Z"
    },
    "papermill": {
     "duration": 0.038801,
     "end_time": "2023-02-06T17:51:58.454319",
     "exception": false,
     "start_time": "2023-02-06T17:51:58.415518",
     "status": "completed"
    },
    "tags": []
   },
   "outputs": [
    {
     "data": {
      "text/plain": [
       "Fulfilment\n",
       "Amazon      58238510.40\n",
       "Merchant    25406716.41\n",
       "Name: Amount, dtype: float64"
      ]
     },
     "execution_count": 9,
     "metadata": {},
     "output_type": "execute_result"
    }
   ],
   "source": [
    "df['Amount'].groupby(df['Fulfilment']).sum()"
   ]
  },
  {
   "cell_type": "code",
   "execution_count": 10,
   "id": "1da2c07d",
   "metadata": {
    "execution": {
     "iopub.execute_input": "2023-02-06T17:51:58.466458Z",
     "iopub.status.busy": "2023-02-06T17:51:58.466074Z",
     "iopub.status.idle": "2023-02-06T17:51:58.487307Z",
     "shell.execute_reply": "2023-02-06T17:51:58.486141Z"
    },
    "papermill": {
     "duration": 0.030775,
     "end_time": "2023-02-06T17:51:58.490045",
     "exception": false,
     "start_time": "2023-02-06T17:51:58.459270",
     "status": "completed"
    },
    "tags": []
   },
   "outputs": [
    {
     "data": {
      "text/plain": [
       "Category\n",
       "Blouse             926\n",
       "Bottom             440\n",
       "Dupatta              3\n",
       "Ethnic Dress      1159\n",
       "Saree              164\n",
       "Set              50284\n",
       "Top              10622\n",
       "Western Dress    15500\n",
       "kurta            49877\n",
       "Name: Amount, dtype: int64"
      ]
     },
     "execution_count": 10,
     "metadata": {},
     "output_type": "execute_result"
    }
   ],
   "source": [
    "df['Amount'].groupby(df['Category']).count()"
   ]
  },
  {
   "cell_type": "code",
   "execution_count": 11,
   "id": "da1e81e5",
   "metadata": {
    "execution": {
     "iopub.execute_input": "2023-02-06T17:51:58.502826Z",
     "iopub.status.busy": "2023-02-06T17:51:58.502377Z",
     "iopub.status.idle": "2023-02-06T17:51:58.634482Z",
     "shell.execute_reply": "2023-02-06T17:51:58.633091Z"
    },
    "papermill": {
     "duration": 0.141833,
     "end_time": "2023-02-06T17:51:58.637068",
     "exception": false,
     "start_time": "2023-02-06T17:51:58.495235",
     "status": "completed"
    },
    "tags": []
   },
   "outputs": [
    {
     "data": {
      "text/html": [
       "<div>\n",
       "<style scoped>\n",
       "    .dataframe tbody tr th:only-of-type {\n",
       "        vertical-align: middle;\n",
       "    }\n",
       "\n",
       "    .dataframe tbody tr th {\n",
       "        vertical-align: top;\n",
       "    }\n",
       "\n",
       "    .dataframe thead th {\n",
       "        text-align: right;\n",
       "    }\n",
       "</style>\n",
       "<table border=\"1\" class=\"dataframe\">\n",
       "  <thead>\n",
       "    <tr style=\"text-align: right;\">\n",
       "      <th></th>\n",
       "      <th>index</th>\n",
       "      <th>DATE</th>\n",
       "      <th>Months</th>\n",
       "      <th>CUSTOMER</th>\n",
       "      <th>Style</th>\n",
       "      <th>SKU</th>\n",
       "      <th>Size</th>\n",
       "      <th>PCS</th>\n",
       "      <th>RATE</th>\n",
       "      <th>GROSS AMT</th>\n",
       "    </tr>\n",
       "  </thead>\n",
       "  <tbody>\n",
       "    <tr>\n",
       "      <th>0</th>\n",
       "      <td>0</td>\n",
       "      <td>06-05-21</td>\n",
       "      <td>Jun-21</td>\n",
       "      <td>REVATHY LOGANATHAN</td>\n",
       "      <td>MEN5004</td>\n",
       "      <td>MEN5004-KR-L</td>\n",
       "      <td>L</td>\n",
       "      <td>1.00</td>\n",
       "      <td>616.56</td>\n",
       "      <td>617.00</td>\n",
       "    </tr>\n",
       "    <tr>\n",
       "      <th>1</th>\n",
       "      <td>1</td>\n",
       "      <td>06-05-21</td>\n",
       "      <td>Jun-21</td>\n",
       "      <td>REVATHY LOGANATHAN</td>\n",
       "      <td>MEN5004</td>\n",
       "      <td>MEN5004-KR-XL</td>\n",
       "      <td>XL</td>\n",
       "      <td>1.00</td>\n",
       "      <td>616.56</td>\n",
       "      <td>617.00</td>\n",
       "    </tr>\n",
       "    <tr>\n",
       "      <th>2</th>\n",
       "      <td>2</td>\n",
       "      <td>06-05-21</td>\n",
       "      <td>Jun-21</td>\n",
       "      <td>REVATHY LOGANATHAN</td>\n",
       "      <td>MEN5004</td>\n",
       "      <td>MEN5004-KR-XXL</td>\n",
       "      <td>XXL</td>\n",
       "      <td>1.00</td>\n",
       "      <td>616.56</td>\n",
       "      <td>617.00</td>\n",
       "    </tr>\n",
       "    <tr>\n",
       "      <th>3</th>\n",
       "      <td>3</td>\n",
       "      <td>06-05-21</td>\n",
       "      <td>Jun-21</td>\n",
       "      <td>REVATHY LOGANATHAN</td>\n",
       "      <td>MEN5009</td>\n",
       "      <td>MEN5009-KR-L</td>\n",
       "      <td>L</td>\n",
       "      <td>1.00</td>\n",
       "      <td>616.56</td>\n",
       "      <td>617.00</td>\n",
       "    </tr>\n",
       "    <tr>\n",
       "      <th>4</th>\n",
       "      <td>4</td>\n",
       "      <td>06-05-21</td>\n",
       "      <td>Jun-21</td>\n",
       "      <td>REVATHY LOGANATHAN</td>\n",
       "      <td>MEN5011</td>\n",
       "      <td>MEN5011-KR-L</td>\n",
       "      <td>L</td>\n",
       "      <td>1.00</td>\n",
       "      <td>616.56</td>\n",
       "      <td>617.00</td>\n",
       "    </tr>\n",
       "  </tbody>\n",
       "</table>\n",
       "</div>"
      ],
      "text/plain": [
       "   index      DATE  Months            CUSTOMER    Style             SKU Size  \\\n",
       "0      0  06-05-21  Jun-21  REVATHY LOGANATHAN  MEN5004    MEN5004-KR-L    L   \n",
       "1      1  06-05-21  Jun-21  REVATHY LOGANATHAN  MEN5004   MEN5004-KR-XL   XL   \n",
       "2      2  06-05-21  Jun-21  REVATHY LOGANATHAN  MEN5004  MEN5004-KR-XXL  XXL   \n",
       "3      3  06-05-21  Jun-21  REVATHY LOGANATHAN  MEN5009    MEN5009-KR-L    L   \n",
       "4      4  06-05-21  Jun-21  REVATHY LOGANATHAN  MEN5011    MEN5011-KR-L    L   \n",
       "\n",
       "    PCS    RATE GROSS AMT  \n",
       "0  1.00  616.56    617.00  \n",
       "1  1.00  616.56    617.00  \n",
       "2  1.00  616.56    617.00  \n",
       "3  1.00  616.56    617.00  \n",
       "4  1.00  616.56    617.00  "
      ]
     },
     "execution_count": 11,
     "metadata": {},
     "output_type": "execute_result"
    }
   ],
   "source": [
    "df1 = pd.read_csv('/kaggle/input/unlock-profits-with-e-commerce-sales-data/International sale Report.csv')\n",
    "df1.head()"
   ]
  }
 ],
 "metadata": {
  "kernelspec": {
   "display_name": "Python 3",
   "language": "python",
   "name": "python3"
  },
  "language_info": {
   "codemirror_mode": {
    "name": "ipython",
    "version": 3
   },
   "file_extension": ".py",
   "mimetype": "text/x-python",
   "name": "python",
   "nbconvert_exporter": "python",
   "pygments_lexer": "ipython3",
   "version": "3.7.12"
  },
  "papermill": {
   "default_parameters": {},
   "duration": 14.357909,
   "end_time": "2023-02-06T17:51:59.365845",
   "environment_variables": {},
   "exception": null,
   "input_path": "__notebook__.ipynb",
   "output_path": "__notebook__.ipynb",
   "parameters": {},
   "start_time": "2023-02-06T17:51:45.007936",
   "version": "2.3.4"
  }
 },
 "nbformat": 4,
 "nbformat_minor": 5
}
