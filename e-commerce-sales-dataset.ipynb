{
 "cells": [
  {
   "cell_type": "code",
   "execution_count": 1,
   "id": "a86dfc11",
   "metadata": {
    "_cell_guid": "b1076dfc-b9ad-4769-8c92-a6c4dae69d19",
    "_uuid": "8f2839f25d086af736a60e9eeb907d3b93b6e0e5",
    "execution": {
     "iopub.execute_input": "2023-02-07T15:20:24.307673Z",
     "iopub.status.busy": "2023-02-07T15:20:24.307225Z",
     "iopub.status.idle": "2023-02-07T15:20:25.394318Z",
     "shell.execute_reply": "2023-02-07T15:20:25.393290Z"
    },
    "papermill": {
     "duration": 1.098005,
     "end_time": "2023-02-07T15:20:25.397138",
     "exception": false,
     "start_time": "2023-02-07T15:20:24.299133",
     "status": "completed"
    },
    "tags": []
   },
   "outputs": [],
   "source": [
    "\n",
    "import numpy as np # linear algebra\n",
    "import pandas as pd # data processing, CSV file I/O (e.g. pd.read_csv)\n",
    "import warnings\n",
    "warnings.filterwarnings('ignore')\n",
    "import matplotlib.pyplot as plt\n",
    "import seaborn as sns"
   ]
  },
  {
   "cell_type": "code",
   "execution_count": 2,
   "id": "7134b6b6",
   "metadata": {
    "execution": {
     "iopub.execute_input": "2023-02-07T15:20:25.410137Z",
     "iopub.status.busy": "2023-02-07T15:20:25.409445Z",
     "iopub.status.idle": "2023-02-07T15:20:28.135419Z",
     "shell.execute_reply": "2023-02-07T15:20:28.134280Z"
    },
    "papermill": {
     "duration": 2.734771,
     "end_time": "2023-02-07T15:20:28.137611",
     "exception": false,
     "start_time": "2023-02-07T15:20:25.402840",
     "status": "completed"
    },
    "tags": []
   },
   "outputs": [
    {
     "data": {
      "text/html": [
       "<div>\n",
       "<style scoped>\n",
       "    .dataframe tbody tr th:only-of-type {\n",
       "        vertical-align: middle;\n",
       "    }\n",
       "\n",
       "    .dataframe tbody tr th {\n",
       "        vertical-align: top;\n",
       "    }\n",
       "\n",
       "    .dataframe thead th {\n",
       "        text-align: right;\n",
       "    }\n",
       "</style>\n",
       "<table border=\"1\" class=\"dataframe\">\n",
       "  <thead>\n",
       "    <tr style=\"text-align: right;\">\n",
       "      <th></th>\n",
       "      <th>index</th>\n",
       "      <th>Order ID</th>\n",
       "      <th>Date</th>\n",
       "      <th>Status</th>\n",
       "      <th>Fulfilment</th>\n",
       "      <th>Sales Channel</th>\n",
       "      <th>ship-service-level</th>\n",
       "      <th>Style</th>\n",
       "      <th>SKU</th>\n",
       "      <th>Category</th>\n",
       "      <th>...</th>\n",
       "      <th>currency</th>\n",
       "      <th>Amount</th>\n",
       "      <th>ship-city</th>\n",
       "      <th>ship-state</th>\n",
       "      <th>ship-postal-code</th>\n",
       "      <th>ship-country</th>\n",
       "      <th>promotion-ids</th>\n",
       "      <th>B2B</th>\n",
       "      <th>fulfilled-by</th>\n",
       "      <th>Unnamed: 22</th>\n",
       "    </tr>\n",
       "  </thead>\n",
       "  <tbody>\n",
       "    <tr>\n",
       "      <th>17794</th>\n",
       "      <td>17794</td>\n",
       "      <td>403-8711179-7267509</td>\n",
       "      <td>04-20-22</td>\n",
       "      <td>Shipped - Delivered to Buyer</td>\n",
       "      <td>Merchant</td>\n",
       "      <td>Amazon.in</td>\n",
       "      <td>Standard</td>\n",
       "      <td>JNE3689</td>\n",
       "      <td>JNE3689-TU-XXL</td>\n",
       "      <td>Top</td>\n",
       "      <td>...</td>\n",
       "      <td>INR</td>\n",
       "      <td>434.0</td>\n",
       "      <td>KOLKATA</td>\n",
       "      <td>WEST BENGAL</td>\n",
       "      <td>700075.0</td>\n",
       "      <td>IN</td>\n",
       "      <td>Amazon PLCC Free-Financing Universal Merchant ...</td>\n",
       "      <td>False</td>\n",
       "      <td>Easy Ship</td>\n",
       "      <td>NaN</td>\n",
       "    </tr>\n",
       "    <tr>\n",
       "      <th>17170</th>\n",
       "      <td>17170</td>\n",
       "      <td>404-7844235-7197136</td>\n",
       "      <td>04-20-22</td>\n",
       "      <td>Shipped - Delivered to Buyer</td>\n",
       "      <td>Merchant</td>\n",
       "      <td>Amazon.in</td>\n",
       "      <td>Standard</td>\n",
       "      <td>SET332</td>\n",
       "      <td>SET332-KR-PP-M</td>\n",
       "      <td>Set</td>\n",
       "      <td>...</td>\n",
       "      <td>INR</td>\n",
       "      <td>549.0</td>\n",
       "      <td>THIRUVANANTHAPURAM</td>\n",
       "      <td>KERALA</td>\n",
       "      <td>695003.0</td>\n",
       "      <td>IN</td>\n",
       "      <td>Amazon PLCC Free-Financing Universal Merchant ...</td>\n",
       "      <td>False</td>\n",
       "      <td>Easy Ship</td>\n",
       "      <td>NaN</td>\n",
       "    </tr>\n",
       "    <tr>\n",
       "      <th>114762</th>\n",
       "      <td>114762</td>\n",
       "      <td>404-4165685-6901945</td>\n",
       "      <td>06-10-22</td>\n",
       "      <td>Shipped - Delivered to Buyer</td>\n",
       "      <td>Merchant</td>\n",
       "      <td>Amazon.in</td>\n",
       "      <td>Standard</td>\n",
       "      <td>JNE3798</td>\n",
       "      <td>JNE3798-KR-XXXL</td>\n",
       "      <td>Western Dress</td>\n",
       "      <td>...</td>\n",
       "      <td>INR</td>\n",
       "      <td>725.0</td>\n",
       "      <td>BENGALURU</td>\n",
       "      <td>KARNATAKA</td>\n",
       "      <td>560077.0</td>\n",
       "      <td>IN</td>\n",
       "      <td>Amazon PLCC Free-Financing Universal Merchant ...</td>\n",
       "      <td>False</td>\n",
       "      <td>Easy Ship</td>\n",
       "      <td>False</td>\n",
       "    </tr>\n",
       "    <tr>\n",
       "      <th>72709</th>\n",
       "      <td>72709</td>\n",
       "      <td>405-1793377-0593918</td>\n",
       "      <td>05-12-22</td>\n",
       "      <td>Shipped</td>\n",
       "      <td>Amazon</td>\n",
       "      <td>Amazon.in</td>\n",
       "      <td>Expedited</td>\n",
       "      <td>JNE3712</td>\n",
       "      <td>JNE3712-TP-N-L</td>\n",
       "      <td>Top</td>\n",
       "      <td>...</td>\n",
       "      <td>INR</td>\n",
       "      <td>518.0</td>\n",
       "      <td>MUMBAI</td>\n",
       "      <td>MAHARASHTRA</td>\n",
       "      <td>400063.0</td>\n",
       "      <td>IN</td>\n",
       "      <td>NaN</td>\n",
       "      <td>False</td>\n",
       "      <td>NaN</td>\n",
       "      <td>False</td>\n",
       "    </tr>\n",
       "    <tr>\n",
       "      <th>104944</th>\n",
       "      <td>104944</td>\n",
       "      <td>406-8627446-6473152</td>\n",
       "      <td>06-17-22</td>\n",
       "      <td>Shipped</td>\n",
       "      <td>Amazon</td>\n",
       "      <td>Amazon.in</td>\n",
       "      <td>Expedited</td>\n",
       "      <td>JNE3334</td>\n",
       "      <td>JNE3334-KR-XXL</td>\n",
       "      <td>kurta</td>\n",
       "      <td>...</td>\n",
       "      <td>INR</td>\n",
       "      <td>318.0</td>\n",
       "      <td>PUNE</td>\n",
       "      <td>MAHARASHTRA</td>\n",
       "      <td>412406.0</td>\n",
       "      <td>IN</td>\n",
       "      <td>IN Core Free Shipping 2015/04/08 23-48-5-108</td>\n",
       "      <td>False</td>\n",
       "      <td>NaN</td>\n",
       "      <td>False</td>\n",
       "    </tr>\n",
       "  </tbody>\n",
       "</table>\n",
       "<p>5 rows × 24 columns</p>\n",
       "</div>"
      ],
      "text/plain": [
       "         index             Order ID      Date                        Status  \\\n",
       "17794    17794  403-8711179-7267509  04-20-22  Shipped - Delivered to Buyer   \n",
       "17170    17170  404-7844235-7197136  04-20-22  Shipped - Delivered to Buyer   \n",
       "114762  114762  404-4165685-6901945  06-10-22  Shipped - Delivered to Buyer   \n",
       "72709    72709  405-1793377-0593918  05-12-22                       Shipped   \n",
       "104944  104944  406-8627446-6473152  06-17-22                       Shipped   \n",
       "\n",
       "       Fulfilment Sales Channel  ship-service-level    Style              SKU  \\\n",
       "17794    Merchant      Amazon.in           Standard  JNE3689   JNE3689-TU-XXL   \n",
       "17170    Merchant      Amazon.in           Standard   SET332   SET332-KR-PP-M   \n",
       "114762   Merchant      Amazon.in           Standard  JNE3798  JNE3798-KR-XXXL   \n",
       "72709      Amazon      Amazon.in          Expedited  JNE3712   JNE3712-TP-N-L   \n",
       "104944     Amazon      Amazon.in          Expedited  JNE3334   JNE3334-KR-XXL   \n",
       "\n",
       "             Category  ... currency Amount           ship-city   ship-state  \\\n",
       "17794             Top  ...      INR  434.0             KOLKATA  WEST BENGAL   \n",
       "17170             Set  ...      INR  549.0  THIRUVANANTHAPURAM       KERALA   \n",
       "114762  Western Dress  ...      INR  725.0           BENGALURU    KARNATAKA   \n",
       "72709             Top  ...      INR  518.0              MUMBAI  MAHARASHTRA   \n",
       "104944          kurta  ...      INR  318.0                PUNE  MAHARASHTRA   \n",
       "\n",
       "       ship-postal-code  ship-country  \\\n",
       "17794          700075.0            IN   \n",
       "17170          695003.0            IN   \n",
       "114762         560077.0            IN   \n",
       "72709          400063.0            IN   \n",
       "104944         412406.0            IN   \n",
       "\n",
       "                                            promotion-ids    B2B  \\\n",
       "17794   Amazon PLCC Free-Financing Universal Merchant ...  False   \n",
       "17170   Amazon PLCC Free-Financing Universal Merchant ...  False   \n",
       "114762  Amazon PLCC Free-Financing Universal Merchant ...  False   \n",
       "72709                                                 NaN  False   \n",
       "104944       IN Core Free Shipping 2015/04/08 23-48-5-108  False   \n",
       "\n",
       "        fulfilled-by Unnamed: 22  \n",
       "17794      Easy Ship         NaN  \n",
       "17170      Easy Ship         NaN  \n",
       "114762     Easy Ship       False  \n",
       "72709            NaN       False  \n",
       "104944           NaN       False  \n",
       "\n",
       "[5 rows x 24 columns]"
      ]
     },
     "execution_count": 2,
     "metadata": {},
     "output_type": "execute_result"
    }
   ],
   "source": [
    "df=pd.read_csv('/kaggle/input/unlock-profits-with-e-commerce-sales-data/Amazon Sale Report.csv')\n",
    "df.sample(5)"
   ]
  },
  {
   "cell_type": "code",
   "execution_count": 3,
   "id": "55f1af1d",
   "metadata": {
    "execution": {
     "iopub.execute_input": "2023-02-07T15:20:28.150825Z",
     "iopub.status.busy": "2023-02-07T15:20:28.149807Z",
     "iopub.status.idle": "2023-02-07T15:20:28.200010Z",
     "shell.execute_reply": "2023-02-07T15:20:28.198628Z"
    },
    "papermill": {
     "duration": 0.059741,
     "end_time": "2023-02-07T15:20:28.203051",
     "exception": false,
     "start_time": "2023-02-07T15:20:28.143310",
     "status": "completed"
    },
    "tags": []
   },
   "outputs": [],
   "source": [
    "df = df.drop(labels = ['index' , 'Order ID', 'Unnamed: 22', 'ship-postal-code'], axis = 1)\n"
   ]
  },
  {
   "cell_type": "code",
   "execution_count": 4,
   "id": "f03d0a0b",
   "metadata": {
    "execution": {
     "iopub.execute_input": "2023-02-07T15:20:28.216107Z",
     "iopub.status.busy": "2023-02-07T15:20:28.215701Z",
     "iopub.status.idle": "2023-02-07T15:20:28.234855Z",
     "shell.execute_reply": "2023-02-07T15:20:28.233693Z"
    },
    "papermill": {
     "duration": 0.0286,
     "end_time": "2023-02-07T15:20:28.237274",
     "exception": false,
     "start_time": "2023-02-07T15:20:28.208674",
     "status": "completed"
    },
    "tags": []
   },
   "outputs": [
    {
     "data": {
      "text/plain": [
       "<bound method DataFrame.info of             Date                        Status Fulfilment Sales Channel   \\\n",
       "0       04-30-22                     Cancelled   Merchant      Amazon.in   \n",
       "1       04-30-22  Shipped - Delivered to Buyer   Merchant      Amazon.in   \n",
       "2       04-30-22                       Shipped     Amazon      Amazon.in   \n",
       "3       04-30-22                     Cancelled   Merchant      Amazon.in   \n",
       "4       04-30-22                       Shipped     Amazon      Amazon.in   \n",
       "...          ...                           ...        ...            ...   \n",
       "128970  05-31-22                       Shipped     Amazon      Amazon.in   \n",
       "128971  05-31-22                       Shipped     Amazon      Amazon.in   \n",
       "128972  05-31-22                       Shipped     Amazon      Amazon.in   \n",
       "128973  05-31-22                       Shipped     Amazon      Amazon.in   \n",
       "128974  05-31-22                       Shipped     Amazon      Amazon.in   \n",
       "\n",
       "       ship-service-level    Style              SKU       Category Size  \\\n",
       "0                Standard   SET389   SET389-KR-NP-S            Set    S   \n",
       "1                Standard  JNE3781  JNE3781-KR-XXXL          kurta  3XL   \n",
       "2               Expedited  JNE3371    JNE3371-KR-XL          kurta   XL   \n",
       "3                Standard    J0341       J0341-DR-L  Western Dress    L   \n",
       "4               Expedited  JNE3671  JNE3671-TU-XXXL            Top  3XL   \n",
       "...                   ...      ...              ...            ...  ...   \n",
       "128970          Expedited  JNE3697    JNE3697-KR-XL          kurta   XL   \n",
       "128971          Expedited   SET401   SET401-KR-NP-M            Set    M   \n",
       "128972          Expedited    J0157     J0157-DR-XXL  Western Dress  XXL   \n",
       "128973          Expedited    J0012     J0012-SKD-XS            Set   XS   \n",
       "128974          Expedited    J0003      J0003-SET-S            Set    S   \n",
       "\n",
       "              ASIN Courier Status  Qty currency   Amount    ship-city  \\\n",
       "0       B09KXVBD7Z            NaN    0      INR   647.62       MUMBAI   \n",
       "1       B09K3WFS32        Shipped    1      INR   406.00    BENGALURU   \n",
       "2       B07WV4JV4D        Shipped    1      INR   329.00  NAVI MUMBAI   \n",
       "3       B099NRCT7B            NaN    0      INR   753.33   PUDUCHERRY   \n",
       "4       B098714BZP        Shipped    1      INR   574.00      CHENNAI   \n",
       "...            ...            ...  ...      ...      ...          ...   \n",
       "128970  B098112V2V        Shipped    1      INR   517.00    HYDERABAD   \n",
       "128971  B09VC6KHX8        Shipped    1      INR   999.00     GURUGRAM   \n",
       "128972  B0982YZ51B        Shipped    1      INR   690.00    HYDERABAD   \n",
       "128973  B0894Y2NJQ        Shipped    1      INR  1199.00        Halol   \n",
       "128974  B0894X27FC        Shipped    1      INR   696.00       Raipur   \n",
       "\n",
       "          ship-state ship-country  \\\n",
       "0        MAHARASHTRA           IN   \n",
       "1          KARNATAKA           IN   \n",
       "2        MAHARASHTRA           IN   \n",
       "3         PUDUCHERRY           IN   \n",
       "4         TAMIL NADU           IN   \n",
       "...              ...          ...   \n",
       "128970     TELANGANA           IN   \n",
       "128971       HARYANA           IN   \n",
       "128972     TELANGANA           IN   \n",
       "128973       Gujarat           IN   \n",
       "128974  CHHATTISGARH           IN   \n",
       "\n",
       "                                            promotion-ids    B2B fulfilled-by  \n",
       "0                                                     NaN  False    Easy Ship  \n",
       "1       Amazon PLCC Free-Financing Universal Merchant ...  False    Easy Ship  \n",
       "2            IN Core Free Shipping 2015/04/08 23-48-5-108   True          NaN  \n",
       "3                                                     NaN  False    Easy Ship  \n",
       "4                                                     NaN  False          NaN  \n",
       "...                                                   ...    ...          ...  \n",
       "128970                                                NaN  False          NaN  \n",
       "128971       IN Core Free Shipping 2015/04/08 23-48-5-108  False          NaN  \n",
       "128972                                                NaN  False          NaN  \n",
       "128973       IN Core Free Shipping 2015/04/08 23-48-5-108  False          NaN  \n",
       "128974       IN Core Free Shipping 2015/04/08 23-48-5-108  False          NaN  \n",
       "\n",
       "[128975 rows x 20 columns]>"
      ]
     },
     "execution_count": 4,
     "metadata": {},
     "output_type": "execute_result"
    }
   ],
   "source": [
    "df.info"
   ]
  },
  {
   "cell_type": "code",
   "execution_count": 5,
   "id": "ff1f5969",
   "metadata": {
    "execution": {
     "iopub.execute_input": "2023-02-07T15:20:28.250930Z",
     "iopub.status.busy": "2023-02-07T15:20:28.250514Z",
     "iopub.status.idle": "2023-02-07T15:20:28.352480Z",
     "shell.execute_reply": "2023-02-07T15:20:28.351280Z"
    },
    "papermill": {
     "duration": 0.111465,
     "end_time": "2023-02-07T15:20:28.354859",
     "exception": false,
     "start_time": "2023-02-07T15:20:28.243394",
     "status": "completed"
    },
    "tags": []
   },
   "outputs": [
    {
     "data": {
      "text/plain": [
       "Date                      0\n",
       "Status                    0\n",
       "Fulfilment                0\n",
       "Sales Channel             0\n",
       "ship-service-level        0\n",
       "Style                     0\n",
       "SKU                       0\n",
       "Category                  0\n",
       "Size                      0\n",
       "ASIN                      0\n",
       "Courier Status         6872\n",
       "Qty                       0\n",
       "currency               7795\n",
       "Amount                 7795\n",
       "ship-city                33\n",
       "ship-state               33\n",
       "ship-country             33\n",
       "promotion-ids         49153\n",
       "B2B                       0\n",
       "fulfilled-by          89698\n",
       "dtype: int64"
      ]
     },
     "execution_count": 5,
     "metadata": {},
     "output_type": "execute_result"
    }
   ],
   "source": [
    "df.isnull().sum()"
   ]
  },
  {
   "cell_type": "code",
   "execution_count": 6,
   "id": "0bf46387",
   "metadata": {
    "execution": {
     "iopub.execute_input": "2023-02-07T15:20:28.369213Z",
     "iopub.status.busy": "2023-02-07T15:20:28.368780Z",
     "iopub.status.idle": "2023-02-07T15:20:28.504338Z",
     "shell.execute_reply": "2023-02-07T15:20:28.503449Z"
    },
    "papermill": {
     "duration": 0.146071,
     "end_time": "2023-02-07T15:20:28.506993",
     "exception": false,
     "start_time": "2023-02-07T15:20:28.360922",
     "status": "completed"
    },
    "tags": []
   },
   "outputs": [],
   "source": [
    "df=df.fillna(method = 'bfill', axis=0)"
   ]
  },
  {
   "cell_type": "code",
   "execution_count": 7,
   "id": "c10fcbee",
   "metadata": {
    "execution": {
     "iopub.execute_input": "2023-02-07T15:20:28.520631Z",
     "iopub.status.busy": "2023-02-07T15:20:28.520232Z",
     "iopub.status.idle": "2023-02-07T15:20:28.624444Z",
     "shell.execute_reply": "2023-02-07T15:20:28.623220Z"
    },
    "papermill": {
     "duration": 0.113603,
     "end_time": "2023-02-07T15:20:28.626700",
     "exception": false,
     "start_time": "2023-02-07T15:20:28.513097",
     "status": "completed"
    },
    "tags": []
   },
   "outputs": [
    {
     "data": {
      "text/plain": [
       "Date                   0\n",
       "Status                 0\n",
       "Fulfilment             0\n",
       "Sales Channel          0\n",
       "ship-service-level     0\n",
       "Style                  0\n",
       "SKU                    0\n",
       "Category               0\n",
       "Size                   0\n",
       "ASIN                   0\n",
       "Courier Status         0\n",
       "Qty                    0\n",
       "currency               0\n",
       "Amount                 0\n",
       "ship-city              0\n",
       "ship-state             0\n",
       "ship-country           0\n",
       "promotion-ids          0\n",
       "B2B                    0\n",
       "fulfilled-by          83\n",
       "dtype: int64"
      ]
     },
     "execution_count": 7,
     "metadata": {},
     "output_type": "execute_result"
    }
   ],
   "source": [
    "df.isnull().sum()"
   ]
  },
  {
   "cell_type": "code",
   "execution_count": 8,
   "id": "1147123f",
   "metadata": {
    "execution": {
     "iopub.execute_input": "2023-02-07T15:20:28.640567Z",
     "iopub.status.busy": "2023-02-07T15:20:28.640186Z",
     "iopub.status.idle": "2023-02-07T15:20:28.840004Z",
     "shell.execute_reply": "2023-02-07T15:20:28.838986Z"
    },
    "papermill": {
     "duration": 0.20967,
     "end_time": "2023-02-07T15:20:28.842648",
     "exception": false,
     "start_time": "2023-02-07T15:20:28.632978",
     "status": "completed"
    },
    "tags": []
   },
   "outputs": [],
   "source": [
    "df=df.fillna(0)"
   ]
  },
  {
   "cell_type": "code",
   "execution_count": 9,
   "id": "bf3e1b92",
   "metadata": {
    "execution": {
     "iopub.execute_input": "2023-02-07T15:20:28.856667Z",
     "iopub.status.busy": "2023-02-07T15:20:28.856296Z",
     "iopub.status.idle": "2023-02-07T15:20:28.865122Z",
     "shell.execute_reply": "2023-02-07T15:20:28.864047Z"
    },
    "papermill": {
     "duration": 0.018384,
     "end_time": "2023-02-07T15:20:28.867248",
     "exception": false,
     "start_time": "2023-02-07T15:20:28.848864",
     "status": "completed"
    },
    "tags": []
   },
   "outputs": [
    {
     "data": {
      "text/plain": [
       "Date                   object\n",
       "Status                 object\n",
       "Fulfilment             object\n",
       "Sales Channel          object\n",
       "ship-service-level     object\n",
       "Style                  object\n",
       "SKU                    object\n",
       "Category               object\n",
       "Size                   object\n",
       "ASIN                   object\n",
       "Courier Status         object\n",
       "Qty                     int64\n",
       "currency               object\n",
       "Amount                float64\n",
       "ship-city              object\n",
       "ship-state             object\n",
       "ship-country           object\n",
       "promotion-ids          object\n",
       "B2B                      bool\n",
       "fulfilled-by           object\n",
       "dtype: object"
      ]
     },
     "execution_count": 9,
     "metadata": {},
     "output_type": "execute_result"
    }
   ],
   "source": [
    "df.dtypes"
   ]
  },
  {
   "cell_type": "code",
   "execution_count": 10,
   "id": "87abc6a5",
   "metadata": {
    "execution": {
     "iopub.execute_input": "2023-02-07T15:20:28.882094Z",
     "iopub.status.busy": "2023-02-07T15:20:28.881456Z",
     "iopub.status.idle": "2023-02-07T15:20:28.907871Z",
     "shell.execute_reply": "2023-02-07T15:20:28.906930Z"
    },
    "papermill": {
     "duration": 0.036357,
     "end_time": "2023-02-07T15:20:28.909915",
     "exception": false,
     "start_time": "2023-02-07T15:20:28.873558",
     "status": "completed"
    },
    "tags": []
   },
   "outputs": [
    {
     "data": {
      "text/plain": [
       "BENGALURU                                      11221\n",
       "HYDERABAD                                       8076\n",
       "MUMBAI                                          6126\n",
       "NEW DELHI                                       5798\n",
       "CHENNAI                                         5421\n",
       "                                               ...  \n",
       "Khandavalli, peravali mandal, west godavari        1\n",
       "Bhayander west                                     1\n",
       "JAKHALMANDI                                        1\n",
       "Arariya                                            1\n",
       "Halol                                              1\n",
       "Name: ship-city, Length: 8955, dtype: int64"
      ]
     },
     "execution_count": 10,
     "metadata": {},
     "output_type": "execute_result"
    }
   ],
   "source": [
    "df['ship-city'].value_counts() "
   ]
  },
  {
   "cell_type": "code",
   "execution_count": 11,
   "id": "387aefda",
   "metadata": {
    "execution": {
     "iopub.execute_input": "2023-02-07T15:20:28.924225Z",
     "iopub.status.busy": "2023-02-07T15:20:28.923343Z",
     "iopub.status.idle": "2023-02-07T15:20:28.987424Z",
     "shell.execute_reply": "2023-02-07T15:20:28.986483Z"
    },
    "papermill": {
     "duration": 0.073754,
     "end_time": "2023-02-07T15:20:28.989855",
     "exception": false,
     "start_time": "2023-02-07T15:20:28.916101",
     "status": "completed"
    },
    "tags": []
   },
   "outputs": [
    {
     "data": {
      "text/html": [
       "<div>\n",
       "<style scoped>\n",
       "    .dataframe tbody tr th:only-of-type {\n",
       "        vertical-align: middle;\n",
       "    }\n",
       "\n",
       "    .dataframe tbody tr th {\n",
       "        vertical-align: top;\n",
       "    }\n",
       "\n",
       "    .dataframe thead th {\n",
       "        text-align: right;\n",
       "    }\n",
       "</style>\n",
       "<table border=\"1\" class=\"dataframe\">\n",
       "  <thead>\n",
       "    <tr style=\"text-align: right;\">\n",
       "      <th></th>\n",
       "      <th>Qty</th>\n",
       "      <th>Amount</th>\n",
       "    </tr>\n",
       "    <tr>\n",
       "      <th>Fulfilment</th>\n",
       "      <th></th>\n",
       "      <th></th>\n",
       "    </tr>\n",
       "  </thead>\n",
       "  <tbody>\n",
       "    <tr>\n",
       "      <th>Amazon</th>\n",
       "      <td>0.937446</td>\n",
       "      <td>649.273232</td>\n",
       "    </tr>\n",
       "    <tr>\n",
       "      <th>Merchant</th>\n",
       "      <td>0.829035</td>\n",
       "      <td>646.859903</td>\n",
       "    </tr>\n",
       "  </tbody>\n",
       "</table>\n",
       "</div>"
      ],
      "text/plain": [
       "                 Qty      Amount\n",
       "Fulfilment                      \n",
       "Amazon      0.937446  649.273232\n",
       "Merchant    0.829035  646.859903"
      ]
     },
     "execution_count": 11,
     "metadata": {},
     "output_type": "execute_result"
    }
   ],
   "source": [
    "df[['Qty','Amount']].groupby(df['Fulfilment']).mean()"
   ]
  },
  {
   "cell_type": "code",
   "execution_count": 12,
   "id": "ba5e5602",
   "metadata": {
    "execution": {
     "iopub.execute_input": "2023-02-07T15:20:29.004921Z",
     "iopub.status.busy": "2023-02-07T15:20:29.004552Z",
     "iopub.status.idle": "2023-02-07T15:20:29.026108Z",
     "shell.execute_reply": "2023-02-07T15:20:29.024756Z"
    },
    "papermill": {
     "duration": 0.032242,
     "end_time": "2023-02-07T15:20:29.028618",
     "exception": false,
     "start_time": "2023-02-07T15:20:28.996376",
     "status": "completed"
    },
    "tags": []
   },
   "outputs": [
    {
     "data": {
      "text/plain": [
       "Fulfilment\n",
       "Amazon      58238510.40\n",
       "Merchant    25406716.41\n",
       "Name: Amount, dtype: float64"
      ]
     },
     "execution_count": 12,
     "metadata": {},
     "output_type": "execute_result"
    }
   ],
   "source": [
    "df['Amount'].groupby(df['Fulfilment']).sum()"
   ]
  },
  {
   "cell_type": "code",
   "execution_count": 13,
   "id": "ef61ef96",
   "metadata": {
    "execution": {
     "iopub.execute_input": "2023-02-07T15:20:29.043401Z",
     "iopub.status.busy": "2023-02-07T15:20:29.043015Z",
     "iopub.status.idle": "2023-02-07T15:20:29.062441Z",
     "shell.execute_reply": "2023-02-07T15:20:29.061419Z"
    },
    "papermill": {
     "duration": 0.029682,
     "end_time": "2023-02-07T15:20:29.064865",
     "exception": false,
     "start_time": "2023-02-07T15:20:29.035183",
     "status": "completed"
    },
    "tags": []
   },
   "outputs": [
    {
     "data": {
      "text/plain": [
       "Category\n",
       "Blouse             926\n",
       "Bottom             440\n",
       "Dupatta              3\n",
       "Ethnic Dress      1159\n",
       "Saree              164\n",
       "Set              50284\n",
       "Top              10622\n",
       "Western Dress    15500\n",
       "kurta            49877\n",
       "Name: Amount, dtype: int64"
      ]
     },
     "execution_count": 13,
     "metadata": {},
     "output_type": "execute_result"
    }
   ],
   "source": [
    "df['Amount'].groupby(df['Category']).count()"
   ]
  },
  {
   "cell_type": "code",
   "execution_count": 14,
   "id": "5ed41d6b",
   "metadata": {
    "execution": {
     "iopub.execute_input": "2023-02-07T15:20:29.080649Z",
     "iopub.status.busy": "2023-02-07T15:20:29.079819Z",
     "iopub.status.idle": "2023-02-07T15:20:29.104282Z",
     "shell.execute_reply": "2023-02-07T15:20:29.103044Z"
    },
    "papermill": {
     "duration": 0.03494,
     "end_time": "2023-02-07T15:20:29.106742",
     "exception": false,
     "start_time": "2023-02-07T15:20:29.071802",
     "status": "completed"
    },
    "tags": []
   },
   "outputs": [
    {
     "data": {
      "text/plain": [
       "Status\n",
       "Cancelled                        4235.72\n",
       "Pending                          1672.00\n",
       "Pending - Waiting for Pick Up    2326.00\n",
       "Shipped                          5584.00\n",
       "Shipped - Damaged                1136.00\n",
       "Shipped - Delivered to Buyer     5495.00\n",
       "Shipped - Lost in Transit         999.00\n",
       "Shipped - Out for Delivery       1399.00\n",
       "Shipped - Picked Up              1998.00\n",
       "Shipped - Rejected by Buyer       967.00\n",
       "Shipped - Returned to Seller     2796.00\n",
       "Shipped - Returning to Seller    1976.00\n",
       "Shipping                          999.00\n",
       "Name: Amount, dtype: float64"
      ]
     },
     "execution_count": 14,
     "metadata": {},
     "output_type": "execute_result"
    }
   ],
   "source": [
    "df['Amount'].groupby(df['Status']).max()"
   ]
  },
  {
   "cell_type": "code",
   "execution_count": 15,
   "id": "4779208c",
   "metadata": {
    "execution": {
     "iopub.execute_input": "2023-02-07T15:20:29.122688Z",
     "iopub.status.busy": "2023-02-07T15:20:29.122320Z",
     "iopub.status.idle": "2023-02-07T15:20:29.138830Z",
     "shell.execute_reply": "2023-02-07T15:20:29.137671Z"
    },
    "papermill": {
     "duration": 0.026583,
     "end_time": "2023-02-07T15:20:29.141099",
     "exception": false,
     "start_time": "2023-02-07T15:20:29.114516",
     "status": "completed"
    },
    "tags": []
   },
   "outputs": [
    {
     "data": {
      "text/plain": [
       "Shipped                          77804\n",
       "Shipped - Delivered to Buyer     28769\n",
       "Cancelled                        18332\n",
       "Shipped - Returned to Seller      1953\n",
       "Shipped - Picked Up                973\n",
       "Pending                            658\n",
       "Pending - Waiting for Pick Up      281\n",
       "Shipped - Returning to Seller      145\n",
       "Shipped - Out for Delivery          35\n",
       "Shipped - Rejected by Buyer         11\n",
       "Shipping                             8\n",
       "Shipped - Lost in Transit            5\n",
       "Shipped - Damaged                    1\n",
       "Name: Status, dtype: int64"
      ]
     },
     "execution_count": 15,
     "metadata": {},
     "output_type": "execute_result"
    }
   ],
   "source": [
    "df['Status'].value_counts()"
   ]
  },
  {
   "cell_type": "code",
   "execution_count": 16,
   "id": "a39ca153",
   "metadata": {
    "execution": {
     "iopub.execute_input": "2023-02-07T15:20:29.156969Z",
     "iopub.status.busy": "2023-02-07T15:20:29.156252Z",
     "iopub.status.idle": "2023-02-07T15:20:29.234792Z",
     "shell.execute_reply": "2023-02-07T15:20:29.233601Z"
    },
    "papermill": {
     "duration": 0.089124,
     "end_time": "2023-02-07T15:20:29.237050",
     "exception": false,
     "start_time": "2023-02-07T15:20:29.147926",
     "status": "completed"
    },
    "tags": []
   },
   "outputs": [
    {
     "data": {
      "text/html": [
       "<div>\n",
       "<style scoped>\n",
       "    .dataframe tbody tr th:only-of-type {\n",
       "        vertical-align: middle;\n",
       "    }\n",
       "\n",
       "    .dataframe tbody tr th {\n",
       "        vertical-align: top;\n",
       "    }\n",
       "\n",
       "    .dataframe thead th {\n",
       "        text-align: right;\n",
       "    }\n",
       "</style>\n",
       "<table border=\"1\" class=\"dataframe\">\n",
       "  <thead>\n",
       "    <tr style=\"text-align: right;\">\n",
       "      <th></th>\n",
       "      <th></th>\n",
       "      <th>Qty</th>\n",
       "      <th>Amount</th>\n",
       "      <th>B2B</th>\n",
       "    </tr>\n",
       "    <tr>\n",
       "      <th>ship-state</th>\n",
       "      <th>ship-city</th>\n",
       "      <th></th>\n",
       "      <th></th>\n",
       "      <th></th>\n",
       "    </tr>\n",
       "  </thead>\n",
       "  <tbody>\n",
       "    <tr>\n",
       "      <th rowspan=\"5\" valign=\"top\">ANDAMAN &amp; NICOBAR</th>\n",
       "      <th>Andaman and nicobar islands port Blair</th>\n",
       "      <td>1.0</td>\n",
       "      <td>999.000000</td>\n",
       "      <td>0.0</td>\n",
       "    </tr>\n",
       "    <tr>\n",
       "      <th>BAMBOOFLAT</th>\n",
       "      <td>0.8</td>\n",
       "      <td>720.824000</td>\n",
       "      <td>0.0</td>\n",
       "    </tr>\n",
       "    <tr>\n",
       "      <th>FERRARGUNJ</th>\n",
       "      <td>0.9</td>\n",
       "      <td>596.300000</td>\n",
       "      <td>0.0</td>\n",
       "    </tr>\n",
       "    <tr>\n",
       "      <th>GARACHARMA</th>\n",
       "      <td>1.0</td>\n",
       "      <td>307.000000</td>\n",
       "      <td>0.0</td>\n",
       "    </tr>\n",
       "    <tr>\n",
       "      <th>GREAT NICOBAR</th>\n",
       "      <td>1.0</td>\n",
       "      <td>657.666667</td>\n",
       "      <td>0.0</td>\n",
       "    </tr>\n",
       "    <tr>\n",
       "      <th>...</th>\n",
       "      <th>...</th>\n",
       "      <td>...</td>\n",
       "      <td>...</td>\n",
       "      <td>...</td>\n",
       "    </tr>\n",
       "    <tr>\n",
       "      <th>punjab</th>\n",
       "      <th>phagwara</th>\n",
       "      <td>1.0</td>\n",
       "      <td>472.000000</td>\n",
       "      <td>0.0</td>\n",
       "    </tr>\n",
       "    <tr>\n",
       "      <th rowspan=\"3\" valign=\"top\">rajasthan</th>\n",
       "      <th>jaipur</th>\n",
       "      <td>1.0</td>\n",
       "      <td>439.000000</td>\n",
       "      <td>0.0</td>\n",
       "    </tr>\n",
       "    <tr>\n",
       "      <th>madanganj-kishangarh  ajmer</th>\n",
       "      <td>1.0</td>\n",
       "      <td>872.000000</td>\n",
       "      <td>0.0</td>\n",
       "    </tr>\n",
       "    <tr>\n",
       "      <th>sriganganagar</th>\n",
       "      <td>1.0</td>\n",
       "      <td>885.000000</td>\n",
       "      <td>0.0</td>\n",
       "    </tr>\n",
       "    <tr>\n",
       "      <th>rajsthan</th>\n",
       "      <th>Bheem</th>\n",
       "      <td>1.0</td>\n",
       "      <td>521.000000</td>\n",
       "      <td>0.0</td>\n",
       "    </tr>\n",
       "  </tbody>\n",
       "</table>\n",
       "<p>9148 rows × 3 columns</p>\n",
       "</div>"
      ],
      "text/plain": [
       "                                                           Qty      Amount  \\\n",
       "ship-state         ship-city                                                 \n",
       "ANDAMAN & NICOBAR  Andaman and nicobar islands port Blair  1.0  999.000000   \n",
       "                   BAMBOOFLAT                              0.8  720.824000   \n",
       "                   FERRARGUNJ                              0.9  596.300000   \n",
       "                   GARACHARMA                              1.0  307.000000   \n",
       "                   GREAT NICOBAR                           1.0  657.666667   \n",
       "...                                                        ...         ...   \n",
       "punjab             phagwara                                1.0  472.000000   \n",
       "rajasthan          jaipur                                  1.0  439.000000   \n",
       "                   madanganj-kishangarh  ajmer             1.0  872.000000   \n",
       "                   sriganganagar                           1.0  885.000000   \n",
       "rajsthan           Bheem                                   1.0  521.000000   \n",
       "\n",
       "                                                           B2B  \n",
       "ship-state         ship-city                                    \n",
       "ANDAMAN & NICOBAR  Andaman and nicobar islands port Blair  0.0  \n",
       "                   BAMBOOFLAT                              0.0  \n",
       "                   FERRARGUNJ                              0.0  \n",
       "                   GARACHARMA                              0.0  \n",
       "                   GREAT NICOBAR                           0.0  \n",
       "...                                                        ...  \n",
       "punjab             phagwara                                0.0  \n",
       "rajasthan          jaipur                                  0.0  \n",
       "                   madanganj-kishangarh  ajmer             0.0  \n",
       "                   sriganganagar                           0.0  \n",
       "rajsthan           Bheem                                   0.0  \n",
       "\n",
       "[9148 rows x 3 columns]"
      ]
     },
     "execution_count": 16,
     "metadata": {},
     "output_type": "execute_result"
    }
   ],
   "source": [
    "# avrage of variables in ship city and ship state\n",
    "a = df.groupby(['ship-state', 'ship-city'])\n",
    "a.mean()"
   ]
  },
  {
   "cell_type": "code",
   "execution_count": 17,
   "id": "8e1b3647",
   "metadata": {
    "execution": {
     "iopub.execute_input": "2023-02-07T15:20:29.252844Z",
     "iopub.status.busy": "2023-02-07T15:20:29.252460Z",
     "iopub.status.idle": "2023-02-07T15:20:29.517032Z",
     "shell.execute_reply": "2023-02-07T15:20:29.515457Z"
    },
    "papermill": {
     "duration": 0.276867,
     "end_time": "2023-02-07T15:20:29.520988",
     "exception": false,
     "start_time": "2023-02-07T15:20:29.244121",
     "status": "completed"
    },
    "tags": []
   },
   "outputs": [
    {
     "data": {
      "image/png": "[encoded data removed]",
      "text/plain": [
       "<Figure size 432x432 with 1 Axes>"
      ]
     },
     "metadata": {},
     "output_type": "display_data"
    }
   ],
   "source": [
    "plt.figure(1, figsize=(6,6))\n",
    "df['Fulfilment'].value_counts().plot.pie(autopct=\"%1.1f%%\",colors = ( \"r\", \"g\"),labels = df['Fulfilment'].unique(), shadow = False)\n",
    "plt.legend(title = \"Fulfilment:\")\n",
    "plt.show()"
   ]
  },
  {
   "cell_type": "code",
   "execution_count": 18,
   "id": "7dc4b6b9",
   "metadata": {
    "execution": {
     "iopub.execute_input": "2023-02-07T15:20:29.545874Z",
     "iopub.status.busy": "2023-02-07T15:20:29.544882Z",
     "iopub.status.idle": "2023-02-07T15:20:29.912074Z",
     "shell.execute_reply": "2023-02-07T15:20:29.910963Z"
    },
    "papermill": {
     "duration": 0.378632,
     "end_time": "2023-02-07T15:20:29.914607",
     "exception": false,
     "start_time": "2023-02-07T15:20:29.535975",
     "status": "completed"
    },
    "tags": []
   },
   "outputs": [
    {
     "data": {
      "text/plain": [
       "<AxesSubplot:xlabel='Courier Status', ylabel='count'>"
      ]
     },
     "execution_count": 18,
     "metadata": {},
     "output_type": "execute_result"
    },
    {
     "data": {
      "image/png": "[encoded data removed]",
      "text/plain": [
       "<Figure size 864x432 with 1 Axes>"
      ]
     },
     "metadata": {
      "needs_background": "light"
     },
     "output_type": "display_data"
    }
   ],
   "source": [
    "plt.figure(figsize = (12, 6))\n",
    "\n",
    "sns.countplot(x = 'Courier Status', hue = 'Fulfilment', data = df)"
   ]
  },
  {
   "cell_type": "code",
   "execution_count": 19,
   "id": "e1cd58ed",
   "metadata": {
    "execution": {
     "iopub.execute_input": "2023-02-07T15:20:29.932667Z",
     "iopub.status.busy": "2023-02-07T15:20:29.932253Z",
     "iopub.status.idle": "2023-02-07T15:20:32.017858Z",
     "shell.execute_reply": "2023-02-07T15:20:32.016749Z"
    },
    "papermill": {
     "duration": 2.097111,
     "end_time": "2023-02-07T15:20:32.020098",
     "exception": false,
     "start_time": "2023-02-07T15:20:29.922987",
     "status": "completed"
    },
    "tags": []
   },
   "outputs": [
    {
     "data": {
      "image/png": "[encoded data removed]",
      "text/plain": [
       "<Figure size 720x360 with 2 Axes>"
      ]
     },
     "metadata": {
      "needs_background": "light"
     },
     "output_type": "display_data"
    }
   ],
   "source": [
    "sns.displot(data = df, x = 'Amount', col = 'B2B');"
   ]
  },
  {
   "cell_type": "code",
   "execution_count": 20,
   "id": "9c3f9e48",
   "metadata": {
    "execution": {
     "iopub.execute_input": "2023-02-07T15:20:32.039161Z",
     "iopub.status.busy": "2023-02-07T15:20:32.038590Z",
     "iopub.status.idle": "2023-02-07T15:20:32.546787Z",
     "shell.execute_reply": "2023-02-07T15:20:32.545604Z"
    },
    "papermill": {
     "duration": 0.520916,
     "end_time": "2023-02-07T15:20:32.549443",
     "exception": false,
     "start_time": "2023-02-07T15:20:32.028527",
     "status": "completed"
    },
    "tags": []
   },
   "outputs": [
    {
     "data": {
      "image/png": "[encoded data removed]",
      "text/plain": [
       "<Figure size 720x576 with 1 Axes>"
      ]
     },
     "metadata": {
      "needs_background": "light"
     },
     "output_type": "display_data"
    }
   ],
   "source": [
    "plt.figure(figsize = (10, 8))\n",
    "\n",
    "sns.lineplot(x = 'Category', y = 'Amount', hue = 'Fulfilment', ci = None,\n",
    "             estimator = 'mean', data = df);"
   ]
  }
 ],
 "metadata": {
  "kernelspec": {
   "display_name": "Python 3",
   "language": "python",
   "name": "python3"
  },
  "language_info": {
   "codemirror_mode": {
    "name": "ipython",
    "version": 3
   },
   "file_extension": ".py",
   "mimetype": "text/x-python",
   "name": "python",
   "nbconvert_exporter": "python",
   "pygments_lexer": "ipython3",
   "version": "3.7.12"
  },
  "papermill": {
   "default_parameters": {},
   "duration": 17.476723,
   "end_time": "2023-02-07T15:20:33.381288",
   "environment_variables": {},
   "exception": null,
   "input_path": "__notebook__.ipynb",
   "output_path": "__notebook__.ipynb",
   "parameters": {},
   "start_time": "2023-02-07T15:20:15.904565",
   "version": "2.3.4"
  }
 },
 "nbformat": 4,
 "nbformat_minor": 5
}
