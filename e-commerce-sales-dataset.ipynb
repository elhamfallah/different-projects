{
 "cells": [
  {
   "cell_type": "code",
   "execution_count": 1,
   "id": "572b62e3",
   "metadata": {
    "_cell_guid": "b1076dfc-b9ad-4769-8c92-a6c4dae69d19",
    "_uuid": "8f2839f25d086af736a60e9eeb907d3b93b6e0e5",
    "execution": {
     "iopub.execute_input": "2023-02-06T18:02:57.795899Z",
     "iopub.status.busy": "2023-02-06T18:02:57.795267Z",
     "iopub.status.idle": "2023-02-06T18:02:57.810393Z",
     "shell.execute_reply": "2023-02-06T18:02:57.809308Z"
    },
    "papermill": {
     "duration": 0.025049,
     "end_time": "2023-02-06T18:02:57.813163",
     "exception": false,
     "start_time": "2023-02-06T18:02:57.788114",
     "status": "completed"
    },
    "tags": []
   },
   "outputs": [],
   "source": [
    "\n",
    "import numpy as np # linear algebra\n",
    "import pandas as pd # data processing, CSV file I/O (e.g. pd.read_csv)\n",
    "import warnings\n",
    "warnings.filterwarnings('ignore')"
   ]
  },
  {
   "cell_type": "code",
   "execution_count": 2,
   "id": "2716862b",
   "metadata": {
    "execution": {
     "iopub.execute_input": "2023-02-06T18:02:57.823277Z",
     "iopub.status.busy": "2023-02-06T18:02:57.822876Z",
     "iopub.status.idle": "2023-02-06T18:02:59.663598Z",
     "shell.execute_reply": "2023-02-06T18:02:59.662416Z"
    },
    "papermill": {
     "duration": 1.848919,
     "end_time": "2023-02-06T18:02:59.666327",
     "exception": false,
     "start_time": "2023-02-06T18:02:57.817408",
     "status": "completed"
    },
    "tags": []
   },
   "outputs": [
    {
     "data": {
      "text/html": [
       "<div>\n",
       "<style scoped>\n",
       "    .dataframe tbody tr th:only-of-type {\n",
       "        vertical-align: middle;\n",
       "    }\n",
       "\n",
       "    .dataframe tbody tr th {\n",
       "        vertical-align: top;\n",
       "    }\n",
       "\n",
       "    .dataframe thead th {\n",
       "        text-align: right;\n",
       "    }\n",
       "</style>\n",
       "<table border=\"1\" class=\"dataframe\">\n",
       "  <thead>\n",
       "    <tr style=\"text-align: right;\">\n",
       "      <th></th>\n",
       "      <th>index</th>\n",
       "      <th>Order ID</th>\n",
       "      <th>Date</th>\n",
       "      <th>Status</th>\n",
       "      <th>Fulfilment</th>\n",
       "      <th>Sales Channel</th>\n",
       "      <th>ship-service-level</th>\n",
       "      <th>Style</th>\n",
       "      <th>SKU</th>\n",
       "      <th>Category</th>\n",
       "      <th>...</th>\n",
       "      <th>currency</th>\n",
       "      <th>Amount</th>\n",
       "      <th>ship-city</th>\n",
       "      <th>ship-state</th>\n",
       "      <th>ship-postal-code</th>\n",
       "      <th>ship-country</th>\n",
       "      <th>promotion-ids</th>\n",
       "      <th>B2B</th>\n",
       "      <th>fulfilled-by</th>\n",
       "      <th>Unnamed: 22</th>\n",
       "    </tr>\n",
       "  </thead>\n",
       "  <tbody>\n",
       "    <tr>\n",
       "      <th>55304</th>\n",
       "      <td>55304</td>\n",
       "      <td>403-0790256-0902750</td>\n",
       "      <td>05-27-22</td>\n",
       "      <td>Shipped</td>\n",
       "      <td>Amazon</td>\n",
       "      <td>Amazon.in</td>\n",
       "      <td>Expedited</td>\n",
       "      <td>SET233</td>\n",
       "      <td>SET233-KR-PP-XS</td>\n",
       "      <td>Set</td>\n",
       "      <td>...</td>\n",
       "      <td>INR</td>\n",
       "      <td>545.00</td>\n",
       "      <td>CHERANALLUR</td>\n",
       "      <td>KERALA</td>\n",
       "      <td>682023.0</td>\n",
       "      <td>IN</td>\n",
       "      <td>IN Core Free Shipping 2015/04/08 23-48-5-108</td>\n",
       "      <td>False</td>\n",
       "      <td>NaN</td>\n",
       "      <td>False</td>\n",
       "    </tr>\n",
       "    <tr>\n",
       "      <th>100735</th>\n",
       "      <td>100735</td>\n",
       "      <td>402-7801187-9586767</td>\n",
       "      <td>06-21-22</td>\n",
       "      <td>Cancelled</td>\n",
       "      <td>Merchant</td>\n",
       "      <td>Amazon.in</td>\n",
       "      <td>Standard</td>\n",
       "      <td>JNE3776</td>\n",
       "      <td>JNE3776-KR-S</td>\n",
       "      <td>kurta</td>\n",
       "      <td>...</td>\n",
       "      <td>INR</td>\n",
       "      <td>286.67</td>\n",
       "      <td>MUMBAI</td>\n",
       "      <td>MAHARASHTRA</td>\n",
       "      <td>400052.0</td>\n",
       "      <td>IN</td>\n",
       "      <td>NaN</td>\n",
       "      <td>False</td>\n",
       "      <td>Easy Ship</td>\n",
       "      <td>False</td>\n",
       "    </tr>\n",
       "    <tr>\n",
       "      <th>44383</th>\n",
       "      <td>44383</td>\n",
       "      <td>171-0907513-5986700</td>\n",
       "      <td>04-03-22</td>\n",
       "      <td>Shipped</td>\n",
       "      <td>Amazon</td>\n",
       "      <td>Amazon.in</td>\n",
       "      <td>Expedited</td>\n",
       "      <td>J0118</td>\n",
       "      <td>J0118-TP-XL</td>\n",
       "      <td>Top</td>\n",
       "      <td>...</td>\n",
       "      <td>INR</td>\n",
       "      <td>421.00</td>\n",
       "      <td>BENGALURU</td>\n",
       "      <td>KARNATAKA</td>\n",
       "      <td>560098.0</td>\n",
       "      <td>IN</td>\n",
       "      <td>NaN</td>\n",
       "      <td>False</td>\n",
       "      <td>NaN</td>\n",
       "      <td>NaN</td>\n",
       "    </tr>\n",
       "    <tr>\n",
       "      <th>84355</th>\n",
       "      <td>84355</td>\n",
       "      <td>404-8006239-3649916</td>\n",
       "      <td>05-04-22</td>\n",
       "      <td>Shipped</td>\n",
       "      <td>Amazon</td>\n",
       "      <td>Amazon.in</td>\n",
       "      <td>Expedited</td>\n",
       "      <td>SET290</td>\n",
       "      <td>SET290-KR-DPT-XL</td>\n",
       "      <td>Set</td>\n",
       "      <td>...</td>\n",
       "      <td>INR</td>\n",
       "      <td>724.00</td>\n",
       "      <td>MAHABALESHWAR</td>\n",
       "      <td>MAHARASHTRA</td>\n",
       "      <td>412806.0</td>\n",
       "      <td>IN</td>\n",
       "      <td>NaN</td>\n",
       "      <td>False</td>\n",
       "      <td>NaN</td>\n",
       "      <td>False</td>\n",
       "    </tr>\n",
       "    <tr>\n",
       "      <th>55540</th>\n",
       "      <td>55540</td>\n",
       "      <td>407-3529569-1975531</td>\n",
       "      <td>05-27-22</td>\n",
       "      <td>Shipped</td>\n",
       "      <td>Amazon</td>\n",
       "      <td>Amazon.in</td>\n",
       "      <td>Expedited</td>\n",
       "      <td>J0230</td>\n",
       "      <td>J0230-SKD-S</td>\n",
       "      <td>Set</td>\n",
       "      <td>...</td>\n",
       "      <td>INR</td>\n",
       "      <td>1349.00</td>\n",
       "      <td>NEW DELHI</td>\n",
       "      <td>DELHI</td>\n",
       "      <td>110043.0</td>\n",
       "      <td>IN</td>\n",
       "      <td>NaN</td>\n",
       "      <td>False</td>\n",
       "      <td>NaN</td>\n",
       "      <td>False</td>\n",
       "    </tr>\n",
       "  </tbody>\n",
       "</table>\n",
       "<p>5 rows × 24 columns</p>\n",
       "</div>"
      ],
      "text/plain": [
       "         index             Order ID      Date     Status Fulfilment  \\\n",
       "55304    55304  403-0790256-0902750  05-27-22    Shipped     Amazon   \n",
       "100735  100735  402-7801187-9586767  06-21-22  Cancelled   Merchant   \n",
       "44383    44383  171-0907513-5986700  04-03-22    Shipped     Amazon   \n",
       "84355    84355  404-8006239-3649916  05-04-22    Shipped     Amazon   \n",
       "55540    55540  407-3529569-1975531  05-27-22    Shipped     Amazon   \n",
       "\n",
       "       Sales Channel  ship-service-level    Style               SKU Category  \\\n",
       "55304       Amazon.in          Expedited   SET233   SET233-KR-PP-XS      Set   \n",
       "100735      Amazon.in           Standard  JNE3776      JNE3776-KR-S    kurta   \n",
       "44383       Amazon.in          Expedited    J0118       J0118-TP-XL      Top   \n",
       "84355       Amazon.in          Expedited   SET290  SET290-KR-DPT-XL      Set   \n",
       "55540       Amazon.in          Expedited    J0230       J0230-SKD-S      Set   \n",
       "\n",
       "        ... currency   Amount      ship-city   ship-state ship-postal-code  \\\n",
       "55304   ...      INR   545.00    CHERANALLUR       KERALA         682023.0   \n",
       "100735  ...      INR   286.67         MUMBAI  MAHARASHTRA         400052.0   \n",
       "44383   ...      INR   421.00      BENGALURU    KARNATAKA         560098.0   \n",
       "84355   ...      INR   724.00  MAHABALESHWAR  MAHARASHTRA         412806.0   \n",
       "55540   ...      INR  1349.00      NEW DELHI        DELHI         110043.0   \n",
       "\n",
       "        ship-country                                 promotion-ids    B2B  \\\n",
       "55304             IN  IN Core Free Shipping 2015/04/08 23-48-5-108  False   \n",
       "100735            IN                                           NaN  False   \n",
       "44383             IN                                           NaN  False   \n",
       "84355             IN                                           NaN  False   \n",
       "55540             IN                                           NaN  False   \n",
       "\n",
       "        fulfilled-by Unnamed: 22  \n",
       "55304            NaN       False  \n",
       "100735     Easy Ship       False  \n",
       "44383            NaN         NaN  \n",
       "84355            NaN       False  \n",
       "55540            NaN       False  \n",
       "\n",
       "[5 rows x 24 columns]"
      ]
     },
     "execution_count": 2,
     "metadata": {},
     "output_type": "execute_result"
    }
   ],
   "source": [
    "df=pd.read_csv('/kaggle/input/unlock-profits-with-e-commerce-sales-data/Amazon Sale Report.csv')\n",
    "df.sample(5)"
   ]
  },
  {
   "cell_type": "code",
   "execution_count": 3,
   "id": "d98ddf9e",
   "metadata": {
    "execution": {
     "iopub.execute_input": "2023-02-06T18:02:59.676744Z",
     "iopub.status.busy": "2023-02-06T18:02:59.676286Z",
     "iopub.status.idle": "2023-02-06T18:02:59.774687Z",
     "shell.execute_reply": "2023-02-06T18:02:59.773399Z"
    },
    "papermill": {
     "duration": 0.106609,
     "end_time": "2023-02-06T18:02:59.777306",
     "exception": false,
     "start_time": "2023-02-06T18:02:59.670697",
     "status": "completed"
    },
    "tags": []
   },
   "outputs": [
    {
     "data": {
      "text/plain": [
       "<bound method DataFrame.info of          index             Order ID      Date                        Status  \\\n",
       "0            0  405-8078784-5731545  04-30-22                     Cancelled   \n",
       "1            1  171-9198151-1101146  04-30-22  Shipped - Delivered to Buyer   \n",
       "2            2  404-0687676-7273146  04-30-22                       Shipped   \n",
       "3            3  403-9615377-8133951  04-30-22                     Cancelled   \n",
       "4            4  407-1069790-7240320  04-30-22                       Shipped   \n",
       "...        ...                  ...       ...                           ...   \n",
       "128970  128970  406-6001380-7673107  05-31-22                       Shipped   \n",
       "128971  128971  402-9551604-7544318  05-31-22                       Shipped   \n",
       "128972  128972  407-9547469-3152358  05-31-22                       Shipped   \n",
       "128973  128973  402-6184140-0545956  05-31-22                       Shipped   \n",
       "128974  128974  408-7436540-8728312  05-31-22                       Shipped   \n",
       "\n",
       "       Fulfilment Sales Channel  ship-service-level    Style              SKU  \\\n",
       "0        Merchant      Amazon.in           Standard   SET389   SET389-KR-NP-S   \n",
       "1        Merchant      Amazon.in           Standard  JNE3781  JNE3781-KR-XXXL   \n",
       "2          Amazon      Amazon.in          Expedited  JNE3371    JNE3371-KR-XL   \n",
       "3        Merchant      Amazon.in           Standard    J0341       J0341-DR-L   \n",
       "4          Amazon      Amazon.in          Expedited  JNE3671  JNE3671-TU-XXXL   \n",
       "...           ...            ...                ...      ...              ...   \n",
       "128970     Amazon      Amazon.in          Expedited  JNE3697    JNE3697-KR-XL   \n",
       "128971     Amazon      Amazon.in          Expedited   SET401   SET401-KR-NP-M   \n",
       "128972     Amazon      Amazon.in          Expedited    J0157     J0157-DR-XXL   \n",
       "128973     Amazon      Amazon.in          Expedited    J0012     J0012-SKD-XS   \n",
       "128974     Amazon      Amazon.in          Expedited    J0003      J0003-SET-S   \n",
       "\n",
       "             Category  ... currency   Amount    ship-city    ship-state  \\\n",
       "0                 Set  ...      INR   647.62       MUMBAI   MAHARASHTRA   \n",
       "1               kurta  ...      INR   406.00    BENGALURU     KARNATAKA   \n",
       "2               kurta  ...      INR   329.00  NAVI MUMBAI   MAHARASHTRA   \n",
       "3       Western Dress  ...      INR   753.33   PUDUCHERRY    PUDUCHERRY   \n",
       "4                 Top  ...      INR   574.00      CHENNAI    TAMIL NADU   \n",
       "...               ...  ...      ...      ...          ...           ...   \n",
       "128970          kurta  ...      INR   517.00    HYDERABAD     TELANGANA   \n",
       "128971            Set  ...      INR   999.00     GURUGRAM       HARYANA   \n",
       "128972  Western Dress  ...      INR   690.00    HYDERABAD     TELANGANA   \n",
       "128973            Set  ...      INR  1199.00        Halol       Gujarat   \n",
       "128974            Set  ...      INR   696.00       Raipur  CHHATTISGARH   \n",
       "\n",
       "       ship-postal-code  ship-country  \\\n",
       "0              400081.0            IN   \n",
       "1              560085.0            IN   \n",
       "2              410210.0            IN   \n",
       "3              605008.0            IN   \n",
       "4              600073.0            IN   \n",
       "...                 ...           ...   \n",
       "128970         500013.0            IN   \n",
       "128971         122004.0            IN   \n",
       "128972         500049.0            IN   \n",
       "128973         389350.0            IN   \n",
       "128974         492014.0            IN   \n",
       "\n",
       "                                            promotion-ids    B2B  \\\n",
       "0                                                     NaN  False   \n",
       "1       Amazon PLCC Free-Financing Universal Merchant ...  False   \n",
       "2            IN Core Free Shipping 2015/04/08 23-48-5-108   True   \n",
       "3                                                     NaN  False   \n",
       "4                                                     NaN  False   \n",
       "...                                                   ...    ...   \n",
       "128970                                                NaN  False   \n",
       "128971       IN Core Free Shipping 2015/04/08 23-48-5-108  False   \n",
       "128972                                                NaN  False   \n",
       "128973       IN Core Free Shipping 2015/04/08 23-48-5-108  False   \n",
       "128974       IN Core Free Shipping 2015/04/08 23-48-5-108  False   \n",
       "\n",
       "        fulfilled-by Unnamed: 22  \n",
       "0          Easy Ship         NaN  \n",
       "1          Easy Ship         NaN  \n",
       "2                NaN         NaN  \n",
       "3          Easy Ship         NaN  \n",
       "4                NaN         NaN  \n",
       "...              ...         ...  \n",
       "128970           NaN       False  \n",
       "128971           NaN       False  \n",
       "128972           NaN       False  \n",
       "128973           NaN       False  \n",
       "128974           NaN       False  \n",
       "\n",
       "[128975 rows x 24 columns]>"
      ]
     },
     "execution_count": 3,
     "metadata": {},
     "output_type": "execute_result"
    }
   ],
   "source": [
    "df.info"
   ]
  },
  {
   "cell_type": "code",
   "execution_count": 4,
   "id": "b320f915",
   "metadata": {
    "execution": {
     "iopub.execute_input": "2023-02-06T18:02:59.788381Z",
     "iopub.status.busy": "2023-02-06T18:02:59.787548Z",
     "iopub.status.idle": "2023-02-06T18:02:59.900035Z",
     "shell.execute_reply": "2023-02-06T18:02:59.898851Z"
    },
    "papermill": {
     "duration": 0.120939,
     "end_time": "2023-02-06T18:02:59.902815",
     "exception": false,
     "start_time": "2023-02-06T18:02:59.781876",
     "status": "completed"
    },
    "tags": []
   },
   "outputs": [
    {
     "data": {
      "text/plain": [
       "index                     0\n",
       "Order ID                  0\n",
       "Date                      0\n",
       "Status                    0\n",
       "Fulfilment                0\n",
       "Sales Channel             0\n",
       "ship-service-level        0\n",
       "Style                     0\n",
       "SKU                       0\n",
       "Category                  0\n",
       "Size                      0\n",
       "ASIN                      0\n",
       "Courier Status         6872\n",
       "Qty                       0\n",
       "currency               7795\n",
       "Amount                 7795\n",
       "ship-city                33\n",
       "ship-state               33\n",
       "ship-postal-code         33\n",
       "ship-country             33\n",
       "promotion-ids         49153\n",
       "B2B                       0\n",
       "fulfilled-by          89698\n",
       "Unnamed: 22           49050\n",
       "dtype: int64"
      ]
     },
     "execution_count": 4,
     "metadata": {},
     "output_type": "execute_result"
    }
   ],
   "source": [
    "df.isnull().sum()"
   ]
  },
  {
   "cell_type": "code",
   "execution_count": 5,
   "id": "568f1380",
   "metadata": {
    "execution": {
     "iopub.execute_input": "2023-02-06T18:02:59.913754Z",
     "iopub.status.busy": "2023-02-06T18:02:59.913302Z",
     "iopub.status.idle": "2023-02-06T18:03:00.090344Z",
     "shell.execute_reply": "2023-02-06T18:03:00.089171Z"
    },
    "papermill": {
     "duration": 0.185848,
     "end_time": "2023-02-06T18:03:00.093208",
     "exception": false,
     "start_time": "2023-02-06T18:02:59.907360",
     "status": "completed"
    },
    "tags": []
   },
   "outputs": [],
   "source": [
    "df=df.fillna(method = 'bfill', axis=0)"
   ]
  },
  {
   "cell_type": "code",
   "execution_count": 6,
   "id": "21d3f3b4",
   "metadata": {
    "execution": {
     "iopub.execute_input": "2023-02-06T18:03:00.104129Z",
     "iopub.status.busy": "2023-02-06T18:03:00.103726Z",
     "iopub.status.idle": "2023-02-06T18:03:00.218792Z",
     "shell.execute_reply": "2023-02-06T18:03:00.217584Z"
    },
    "papermill": {
     "duration": 0.123625,
     "end_time": "2023-02-06T18:03:00.221471",
     "exception": false,
     "start_time": "2023-02-06T18:03:00.097846",
     "status": "completed"
    },
    "tags": []
   },
   "outputs": [
    {
     "data": {
      "text/plain": [
       "index                  0\n",
       "Order ID               0\n",
       "Date                   0\n",
       "Status                 0\n",
       "Fulfilment             0\n",
       "Sales Channel          0\n",
       "ship-service-level     0\n",
       "Style                  0\n",
       "SKU                    0\n",
       "Category               0\n",
       "Size                   0\n",
       "ASIN                   0\n",
       "Courier Status         0\n",
       "Qty                    0\n",
       "currency               0\n",
       "Amount                 0\n",
       "ship-city              0\n",
       "ship-state             0\n",
       "ship-postal-code       0\n",
       "ship-country           0\n",
       "promotion-ids          0\n",
       "B2B                    0\n",
       "fulfilled-by          83\n",
       "Unnamed: 22            0\n",
       "dtype: int64"
      ]
     },
     "execution_count": 6,
     "metadata": {},
     "output_type": "execute_result"
    }
   ],
   "source": [
    "df.isnull().sum()"
   ]
  },
  {
   "cell_type": "code",
   "execution_count": 7,
   "id": "54abc215",
   "metadata": {
    "execution": {
     "iopub.execute_input": "2023-02-06T18:03:00.232916Z",
     "iopub.status.busy": "2023-02-06T18:03:00.232467Z",
     "iopub.status.idle": "2023-02-06T18:03:00.482991Z",
     "shell.execute_reply": "2023-02-06T18:03:00.481810Z"
    },
    "papermill": {
     "duration": 0.259499,
     "end_time": "2023-02-06T18:03:00.485788",
     "exception": false,
     "start_time": "2023-02-06T18:03:00.226289",
     "status": "completed"
    },
    "tags": []
   },
   "outputs": [],
   "source": [
    "df=df.fillna(0)"
   ]
  },
  {
   "cell_type": "code",
   "execution_count": 8,
   "id": "d8f52b79",
   "metadata": {
    "execution": {
     "iopub.execute_input": "2023-02-06T18:03:00.497430Z",
     "iopub.status.busy": "2023-02-06T18:03:00.496452Z",
     "iopub.status.idle": "2023-02-06T18:03:00.504993Z",
     "shell.execute_reply": "2023-02-06T18:03:00.504151Z"
    },
    "papermill": {
     "duration": 0.016662,
     "end_time": "2023-02-06T18:03:00.507124",
     "exception": false,
     "start_time": "2023-02-06T18:03:00.490462",
     "status": "completed"
    },
    "tags": []
   },
   "outputs": [
    {
     "data": {
      "text/plain": [
       "index                   int64\n",
       "Order ID               object\n",
       "Date                   object\n",
       "Status                 object\n",
       "Fulfilment             object\n",
       "Sales Channel          object\n",
       "ship-service-level     object\n",
       "Style                  object\n",
       "SKU                    object\n",
       "Category               object\n",
       "Size                   object\n",
       "ASIN                   object\n",
       "Courier Status         object\n",
       "Qty                     int64\n",
       "currency               object\n",
       "Amount                float64\n",
       "ship-city              object\n",
       "ship-state             object\n",
       "ship-postal-code      float64\n",
       "ship-country           object\n",
       "promotion-ids          object\n",
       "B2B                      bool\n",
       "fulfilled-by           object\n",
       "Unnamed: 22              bool\n",
       "dtype: object"
      ]
     },
     "execution_count": 8,
     "metadata": {},
     "output_type": "execute_result"
    }
   ],
   "source": [
    "df.dtypes"
   ]
  },
  {
   "cell_type": "code",
   "execution_count": 9,
   "id": "442374c9",
   "metadata": {
    "execution": {
     "iopub.execute_input": "2023-02-06T18:03:00.518828Z",
     "iopub.status.busy": "2023-02-06T18:03:00.518382Z",
     "iopub.status.idle": "2023-02-06T18:03:00.644855Z",
     "shell.execute_reply": "2023-02-06T18:03:00.643943Z"
    },
    "papermill": {
     "duration": 0.135689,
     "end_time": "2023-02-06T18:03:00.647700",
     "exception": false,
     "start_time": "2023-02-06T18:03:00.512011",
     "status": "completed"
    },
    "tags": []
   },
   "outputs": [
    {
     "data": {
      "text/html": [
       "<div>\n",
       "<style scoped>\n",
       "    .dataframe tbody tr th:only-of-type {\n",
       "        vertical-align: middle;\n",
       "    }\n",
       "\n",
       "    .dataframe tbody tr th {\n",
       "        vertical-align: top;\n",
       "    }\n",
       "\n",
       "    .dataframe thead th {\n",
       "        text-align: right;\n",
       "    }\n",
       "</style>\n",
       "<table border=\"1\" class=\"dataframe\">\n",
       "  <thead>\n",
       "    <tr style=\"text-align: right;\">\n",
       "      <th></th>\n",
       "      <th>Qty</th>\n",
       "      <th>Amount</th>\n",
       "    </tr>\n",
       "    <tr>\n",
       "      <th>Fulfilment</th>\n",
       "      <th></th>\n",
       "      <th></th>\n",
       "    </tr>\n",
       "  </thead>\n",
       "  <tbody>\n",
       "    <tr>\n",
       "      <th>Amazon</th>\n",
       "      <td>84087</td>\n",
       "      <td>58238510.40</td>\n",
       "    </tr>\n",
       "    <tr>\n",
       "      <th>Merchant</th>\n",
       "      <td>32562</td>\n",
       "      <td>25406716.41</td>\n",
       "    </tr>\n",
       "  </tbody>\n",
       "</table>\n",
       "</div>"
      ],
      "text/plain": [
       "              Qty       Amount\n",
       "Fulfilment                    \n",
       "Amazon      84087  58238510.40\n",
       "Merchant    32562  25406716.41"
      ]
     },
     "execution_count": 9,
     "metadata": {},
     "output_type": "execute_result"
    }
   ],
   "source": [
    "df[['Qty','Amount',]].groupby(df['Fulfilment']).sum()"
   ]
  },
  {
   "cell_type": "code",
   "execution_count": 10,
   "id": "42806d5a",
   "metadata": {
    "execution": {
     "iopub.execute_input": "2023-02-06T18:03:00.661604Z",
     "iopub.status.busy": "2023-02-06T18:03:00.660341Z",
     "iopub.status.idle": "2023-02-06T18:03:00.688054Z",
     "shell.execute_reply": "2023-02-06T18:03:00.687181Z"
    },
    "papermill": {
     "duration": 0.037322,
     "end_time": "2023-02-06T18:03:00.690648",
     "exception": false,
     "start_time": "2023-02-06T18:03:00.653326",
     "status": "completed"
    },
    "tags": []
   },
   "outputs": [
    {
     "data": {
      "text/plain": [
       "Fulfilment\n",
       "Amazon      58238510.40\n",
       "Merchant    25406716.41\n",
       "Name: Amount, dtype: float64"
      ]
     },
     "execution_count": 10,
     "metadata": {},
     "output_type": "execute_result"
    }
   ],
   "source": [
    "df['Amount'].groupby(df['Fulfilment']).sum()"
   ]
  },
  {
   "cell_type": "code",
   "execution_count": 11,
   "id": "c2ec2eb1",
   "metadata": {
    "execution": {
     "iopub.execute_input": "2023-02-06T18:03:00.704196Z",
     "iopub.status.busy": "2023-02-06T18:03:00.703396Z",
     "iopub.status.idle": "2023-02-06T18:03:00.726028Z",
     "shell.execute_reply": "2023-02-06T18:03:00.724952Z"
    },
    "papermill": {
     "duration": 0.032522,
     "end_time": "2023-02-06T18:03:00.728812",
     "exception": false,
     "start_time": "2023-02-06T18:03:00.696290",
     "status": "completed"
    },
    "tags": []
   },
   "outputs": [
    {
     "data": {
      "text/plain": [
       "Category\n",
       "Blouse             926\n",
       "Bottom             440\n",
       "Dupatta              3\n",
       "Ethnic Dress      1159\n",
       "Saree              164\n",
       "Set              50284\n",
       "Top              10622\n",
       "Western Dress    15500\n",
       "kurta            49877\n",
       "Name: Amount, dtype: int64"
      ]
     },
     "execution_count": 11,
     "metadata": {},
     "output_type": "execute_result"
    }
   ],
   "source": [
    "df['Amount'].groupby(df['Category']).count()"
   ]
  },
  {
   "cell_type": "code",
   "execution_count": 12,
   "id": "46077e42",
   "metadata": {
    "execution": {
     "iopub.execute_input": "2023-02-06T18:03:00.742278Z",
     "iopub.status.busy": "2023-02-06T18:03:00.741068Z",
     "iopub.status.idle": "2023-02-06T18:03:00.858128Z",
     "shell.execute_reply": "2023-02-06T18:03:00.857216Z"
    },
    "papermill": {
     "duration": 0.126129,
     "end_time": "2023-02-06T18:03:00.860578",
     "exception": false,
     "start_time": "2023-02-06T18:03:00.734449",
     "status": "completed"
    },
    "tags": []
   },
   "outputs": [
    {
     "data": {
      "text/html": [
       "<div>\n",
       "<style scoped>\n",
       "    .dataframe tbody tr th:only-of-type {\n",
       "        vertical-align: middle;\n",
       "    }\n",
       "\n",
       "    .dataframe tbody tr th {\n",
       "        vertical-align: top;\n",
       "    }\n",
       "\n",
       "    .dataframe thead th {\n",
       "        text-align: right;\n",
       "    }\n",
       "</style>\n",
       "<table border=\"1\" class=\"dataframe\">\n",
       "  <thead>\n",
       "    <tr style=\"text-align: right;\">\n",
       "      <th></th>\n",
       "      <th>index</th>\n",
       "      <th>DATE</th>\n",
       "      <th>Months</th>\n",
       "      <th>CUSTOMER</th>\n",
       "      <th>Style</th>\n",
       "      <th>SKU</th>\n",
       "      <th>Size</th>\n",
       "      <th>PCS</th>\n",
       "      <th>RATE</th>\n",
       "      <th>GROSS AMT</th>\n",
       "    </tr>\n",
       "  </thead>\n",
       "  <tbody>\n",
       "    <tr>\n",
       "      <th>0</th>\n",
       "      <td>0</td>\n",
       "      <td>06-05-21</td>\n",
       "      <td>Jun-21</td>\n",
       "      <td>REVATHY LOGANATHAN</td>\n",
       "      <td>MEN5004</td>\n",
       "      <td>MEN5004-KR-L</td>\n",
       "      <td>L</td>\n",
       "      <td>1.00</td>\n",
       "      <td>616.56</td>\n",
       "      <td>617.00</td>\n",
       "    </tr>\n",
       "    <tr>\n",
       "      <th>1</th>\n",
       "      <td>1</td>\n",
       "      <td>06-05-21</td>\n",
       "      <td>Jun-21</td>\n",
       "      <td>REVATHY LOGANATHAN</td>\n",
       "      <td>MEN5004</td>\n",
       "      <td>MEN5004-KR-XL</td>\n",
       "      <td>XL</td>\n",
       "      <td>1.00</td>\n",
       "      <td>616.56</td>\n",
       "      <td>617.00</td>\n",
       "    </tr>\n",
       "    <tr>\n",
       "      <th>2</th>\n",
       "      <td>2</td>\n",
       "      <td>06-05-21</td>\n",
       "      <td>Jun-21</td>\n",
       "      <td>REVATHY LOGANATHAN</td>\n",
       "      <td>MEN5004</td>\n",
       "      <td>MEN5004-KR-XXL</td>\n",
       "      <td>XXL</td>\n",
       "      <td>1.00</td>\n",
       "      <td>616.56</td>\n",
       "      <td>617.00</td>\n",
       "    </tr>\n",
       "    <tr>\n",
       "      <th>3</th>\n",
       "      <td>3</td>\n",
       "      <td>06-05-21</td>\n",
       "      <td>Jun-21</td>\n",
       "      <td>REVATHY LOGANATHAN</td>\n",
       "      <td>MEN5009</td>\n",
       "      <td>MEN5009-KR-L</td>\n",
       "      <td>L</td>\n",
       "      <td>1.00</td>\n",
       "      <td>616.56</td>\n",
       "      <td>617.00</td>\n",
       "    </tr>\n",
       "    <tr>\n",
       "      <th>4</th>\n",
       "      <td>4</td>\n",
       "      <td>06-05-21</td>\n",
       "      <td>Jun-21</td>\n",
       "      <td>REVATHY LOGANATHAN</td>\n",
       "      <td>MEN5011</td>\n",
       "      <td>MEN5011-KR-L</td>\n",
       "      <td>L</td>\n",
       "      <td>1.00</td>\n",
       "      <td>616.56</td>\n",
       "      <td>617.00</td>\n",
       "    </tr>\n",
       "  </tbody>\n",
       "</table>\n",
       "</div>"
      ],
      "text/plain": [
       "   index      DATE  Months            CUSTOMER    Style             SKU Size  \\\n",
       "0      0  06-05-21  Jun-21  REVATHY LOGANATHAN  MEN5004    MEN5004-KR-L    L   \n",
       "1      1  06-05-21  Jun-21  REVATHY LOGANATHAN  MEN5004   MEN5004-KR-XL   XL   \n",
       "2      2  06-05-21  Jun-21  REVATHY LOGANATHAN  MEN5004  MEN5004-KR-XXL  XXL   \n",
       "3      3  06-05-21  Jun-21  REVATHY LOGANATHAN  MEN5009    MEN5009-KR-L    L   \n",
       "4      4  06-05-21  Jun-21  REVATHY LOGANATHAN  MEN5011    MEN5011-KR-L    L   \n",
       "\n",
       "    PCS    RATE GROSS AMT  \n",
       "0  1.00  616.56    617.00  \n",
       "1  1.00  616.56    617.00  \n",
       "2  1.00  616.56    617.00  \n",
       "3  1.00  616.56    617.00  \n",
       "4  1.00  616.56    617.00  "
      ]
     },
     "execution_count": 12,
     "metadata": {},
     "output_type": "execute_result"
    }
   ],
   "source": [
    "df1 = pd.read_csv('/kaggle/input/unlock-profits-with-e-commerce-sales-data/International sale Report.csv')\n",
    "df1.head()"
   ]
  }
 ],
 "metadata": {
  "kernelspec": {
   "display_name": "Python 3",
   "language": "python",
   "name": "python3"
  },
  "language_info": {
   "codemirror_mode": {
    "name": "ipython",
    "version": 3
   },
   "file_extension": ".py",
   "mimetype": "text/x-python",
   "name": "python",
   "nbconvert_exporter": "python",
   "pygments_lexer": "ipython3",
   "version": "3.7.12"
  },
  "papermill": {
   "default_parameters": {},
   "duration": 12.442362,
   "end_time": "2023-02-06T18:03:01.587753",
   "environment_variables": {},
   "exception": null,
   "input_path": "__notebook__.ipynb",
   "output_path": "__notebook__.ipynb",
   "parameters": {},
   "start_time": "2023-02-06T18:02:49.145391",
   "version": "2.3.4"
  }
 },
 "nbformat": 4,
 "nbformat_minor": 5
}
