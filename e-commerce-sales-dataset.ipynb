{
 "cells": [
  {
   "cell_type": "code",
   "execution_count": 1,
   "id": "f4777569",
   "metadata": {
    "_cell_guid": "b1076dfc-b9ad-4769-8c92-a6c4dae69d19",
    "_uuid": "8f2839f25d086af736a60e9eeb907d3b93b6e0e5",
    "execution": {
     "iopub.execute_input": "2023-02-06T17:15:07.132329Z",
     "iopub.status.busy": "2023-02-06T17:15:07.131878Z",
     "iopub.status.idle": "2023-02-06T17:15:07.143575Z",
     "shell.execute_reply": "2023-02-06T17:15:07.142107Z"
    },
    "papermill": {
     "duration": 0.020363,
     "end_time": "2023-02-06T17:15:07.146632",
     "exception": false,
     "start_time": "2023-02-06T17:15:07.126269",
     "status": "completed"
    },
    "tags": []
   },
   "outputs": [],
   "source": [
    "\n",
    "import numpy as np # linear algebra\n",
    "import pandas as pd # data processing, CSV file I/O (e.g. pd.read_csv)\n",
    "import warnings\n",
    "warnings.filterwarnings('ignore')"
   ]
  },
  {
   "cell_type": "code",
   "execution_count": 2,
   "id": "2460d237",
   "metadata": {
    "execution": {
     "iopub.execute_input": "2023-02-06T17:15:07.154924Z",
     "iopub.status.busy": "2023-02-06T17:15:07.154505Z",
     "iopub.status.idle": "2023-02-06T17:15:08.927571Z",
     "shell.execute_reply": "2023-02-06T17:15:08.926109Z"
    },
    "papermill": {
     "duration": 1.779523,
     "end_time": "2023-02-06T17:15:08.929680",
     "exception": false,
     "start_time": "2023-02-06T17:15:07.150157",
     "status": "completed"
    },
    "tags": []
   },
   "outputs": [
    {
     "data": {
      "text/html": [
       "<div>\n",
       "<style scoped>\n",
       "    .dataframe tbody tr th:only-of-type {\n",
       "        vertical-align: middle;\n",
       "    }\n",
       "\n",
       "    .dataframe tbody tr th {\n",
       "        vertical-align: top;\n",
       "    }\n",
       "\n",
       "    .dataframe thead th {\n",
       "        text-align: right;\n",
       "    }\n",
       "</style>\n",
       "<table border=\"1\" class=\"dataframe\">\n",
       "  <thead>\n",
       "    <tr style=\"text-align: right;\">\n",
       "      <th></th>\n",
       "      <th>index</th>\n",
       "      <th>Order ID</th>\n",
       "      <th>Date</th>\n",
       "      <th>Status</th>\n",
       "      <th>Fulfilment</th>\n",
       "      <th>Sales Channel</th>\n",
       "      <th>ship-service-level</th>\n",
       "      <th>Style</th>\n",
       "      <th>SKU</th>\n",
       "      <th>Category</th>\n",
       "      <th>...</th>\n",
       "      <th>currency</th>\n",
       "      <th>Amount</th>\n",
       "      <th>ship-city</th>\n",
       "      <th>ship-state</th>\n",
       "      <th>ship-postal-code</th>\n",
       "      <th>ship-country</th>\n",
       "      <th>promotion-ids</th>\n",
       "      <th>B2B</th>\n",
       "      <th>fulfilled-by</th>\n",
       "      <th>Unnamed: 22</th>\n",
       "    </tr>\n",
       "  </thead>\n",
       "  <tbody>\n",
       "    <tr>\n",
       "      <th>79567</th>\n",
       "      <td>79567</td>\n",
       "      <td>171-1872212-3076363</td>\n",
       "      <td>05-07-22</td>\n",
       "      <td>Shipped - Delivered to Buyer</td>\n",
       "      <td>Merchant</td>\n",
       "      <td>Amazon.in</td>\n",
       "      <td>Standard</td>\n",
       "      <td>SET323</td>\n",
       "      <td>SET323-KR-NP-XL</td>\n",
       "      <td>Set</td>\n",
       "      <td>...</td>\n",
       "      <td>INR</td>\n",
       "      <td>949.0</td>\n",
       "      <td>KALABURGI</td>\n",
       "      <td>KARNATAKA</td>\n",
       "      <td>585222.0</td>\n",
       "      <td>IN</td>\n",
       "      <td>Amazon PLCC Free-Financing Universal Merchant ...</td>\n",
       "      <td>False</td>\n",
       "      <td>Easy Ship</td>\n",
       "      <td>False</td>\n",
       "    </tr>\n",
       "    <tr>\n",
       "      <th>120437</th>\n",
       "      <td>120437</td>\n",
       "      <td>405-7262153-2195545</td>\n",
       "      <td>06-06-22</td>\n",
       "      <td>Shipped - Delivered to Buyer</td>\n",
       "      <td>Merchant</td>\n",
       "      <td>Amazon.in</td>\n",
       "      <td>Standard</td>\n",
       "      <td>SET348</td>\n",
       "      <td>SET348-KR-NP-M</td>\n",
       "      <td>Set</td>\n",
       "      <td>...</td>\n",
       "      <td>INR</td>\n",
       "      <td>899.0</td>\n",
       "      <td>AJNALA</td>\n",
       "      <td>PUNJAB</td>\n",
       "      <td>143102.0</td>\n",
       "      <td>IN</td>\n",
       "      <td>Amazon PLCC Free-Financing Universal Merchant ...</td>\n",
       "      <td>False</td>\n",
       "      <td>Easy Ship</td>\n",
       "      <td>False</td>\n",
       "    </tr>\n",
       "    <tr>\n",
       "      <th>100771</th>\n",
       "      <td>100771</td>\n",
       "      <td>408-2794870-8847547</td>\n",
       "      <td>06-21-22</td>\n",
       "      <td>Shipped</td>\n",
       "      <td>Amazon</td>\n",
       "      <td>Amazon.in</td>\n",
       "      <td>Expedited</td>\n",
       "      <td>SET390</td>\n",
       "      <td>SET390-KR-NP-L</td>\n",
       "      <td>Set</td>\n",
       "      <td>...</td>\n",
       "      <td>INR</td>\n",
       "      <td>856.0</td>\n",
       "      <td>BENGALURU</td>\n",
       "      <td>KARNATAKA</td>\n",
       "      <td>560099.0</td>\n",
       "      <td>IN</td>\n",
       "      <td>IN Core Free Shipping 2015/04/08 23-48-5-108</td>\n",
       "      <td>False</td>\n",
       "      <td>NaN</td>\n",
       "      <td>False</td>\n",
       "    </tr>\n",
       "    <tr>\n",
       "      <th>50986</th>\n",
       "      <td>50986</td>\n",
       "      <td>407-8373340-6193101</td>\n",
       "      <td>05-30-22</td>\n",
       "      <td>Shipped</td>\n",
       "      <td>Amazon</td>\n",
       "      <td>Amazon.in</td>\n",
       "      <td>Expedited</td>\n",
       "      <td>J0164</td>\n",
       "      <td>J0164-DR-L</td>\n",
       "      <td>Ethnic Dress</td>\n",
       "      <td>...</td>\n",
       "      <td>INR</td>\n",
       "      <td>373.0</td>\n",
       "      <td>HYDERABAD</td>\n",
       "      <td>ANDHRA PRADESH</td>\n",
       "      <td>500049.0</td>\n",
       "      <td>IN</td>\n",
       "      <td>NaN</td>\n",
       "      <td>False</td>\n",
       "      <td>NaN</td>\n",
       "      <td>False</td>\n",
       "    </tr>\n",
       "    <tr>\n",
       "      <th>38515</th>\n",
       "      <td>38515</td>\n",
       "      <td>408-0108876-0101939</td>\n",
       "      <td>04-07-22</td>\n",
       "      <td>Shipped</td>\n",
       "      <td>Amazon</td>\n",
       "      <td>Amazon.in</td>\n",
       "      <td>Standard</td>\n",
       "      <td>J0122</td>\n",
       "      <td>J0122-TP-XXL</td>\n",
       "      <td>Top</td>\n",
       "      <td>...</td>\n",
       "      <td>INR</td>\n",
       "      <td>0.0</td>\n",
       "      <td>PUNE</td>\n",
       "      <td>MAHARASHTRA</td>\n",
       "      <td>411060.0</td>\n",
       "      <td>IN</td>\n",
       "      <td>NaN</td>\n",
       "      <td>False</td>\n",
       "      <td>NaN</td>\n",
       "      <td>NaN</td>\n",
       "    </tr>\n",
       "  </tbody>\n",
       "</table>\n",
       "<p>5 rows × 24 columns</p>\n",
       "</div>"
      ],
      "text/plain": [
       "         index             Order ID      Date                        Status  \\\n",
       "79567    79567  171-1872212-3076363  05-07-22  Shipped - Delivered to Buyer   \n",
       "120437  120437  405-7262153-2195545  06-06-22  Shipped - Delivered to Buyer   \n",
       "100771  100771  408-2794870-8847547  06-21-22                       Shipped   \n",
       "50986    50986  407-8373340-6193101  05-30-22                       Shipped   \n",
       "38515    38515  408-0108876-0101939  04-07-22                       Shipped   \n",
       "\n",
       "       Fulfilment Sales Channel  ship-service-level   Style              SKU  \\\n",
       "79567    Merchant      Amazon.in           Standard  SET323  SET323-KR-NP-XL   \n",
       "120437   Merchant      Amazon.in           Standard  SET348   SET348-KR-NP-M   \n",
       "100771     Amazon      Amazon.in          Expedited  SET390   SET390-KR-NP-L   \n",
       "50986      Amazon      Amazon.in          Expedited   J0164       J0164-DR-L   \n",
       "38515      Amazon      Amazon.in           Standard   J0122     J0122-TP-XXL   \n",
       "\n",
       "            Category  ... currency Amount  ship-city      ship-state  \\\n",
       "79567            Set  ...      INR  949.0  KALABURGI       KARNATAKA   \n",
       "120437           Set  ...      INR  899.0     AJNALA          PUNJAB   \n",
       "100771           Set  ...      INR  856.0  BENGALURU       KARNATAKA   \n",
       "50986   Ethnic Dress  ...      INR  373.0  HYDERABAD  ANDHRA PRADESH   \n",
       "38515            Top  ...      INR    0.0       PUNE     MAHARASHTRA   \n",
       "\n",
       "       ship-postal-code  ship-country  \\\n",
       "79567          585222.0            IN   \n",
       "120437         143102.0            IN   \n",
       "100771         560099.0            IN   \n",
       "50986          500049.0            IN   \n",
       "38515          411060.0            IN   \n",
       "\n",
       "                                            promotion-ids    B2B  \\\n",
       "79567   Amazon PLCC Free-Financing Universal Merchant ...  False   \n",
       "120437  Amazon PLCC Free-Financing Universal Merchant ...  False   \n",
       "100771       IN Core Free Shipping 2015/04/08 23-48-5-108  False   \n",
       "50986                                                 NaN  False   \n",
       "38515                                                 NaN  False   \n",
       "\n",
       "        fulfilled-by Unnamed: 22  \n",
       "79567      Easy Ship       False  \n",
       "120437     Easy Ship       False  \n",
       "100771           NaN       False  \n",
       "50986            NaN       False  \n",
       "38515            NaN         NaN  \n",
       "\n",
       "[5 rows x 24 columns]"
      ]
     },
     "execution_count": 2,
     "metadata": {},
     "output_type": "execute_result"
    }
   ],
   "source": [
    "df=pd.read_csv('/kaggle/input/unlock-profits-with-e-commerce-sales-data/Amazon Sale Report.csv')\n",
    "df.sample(5)"
   ]
  },
  {
   "cell_type": "code",
   "execution_count": 3,
   "id": "2069f494",
   "metadata": {
    "execution": {
     "iopub.execute_input": "2023-02-06T17:15:08.942078Z",
     "iopub.status.busy": "2023-02-06T17:15:08.941687Z",
     "iopub.status.idle": "2023-02-06T17:15:09.020415Z",
     "shell.execute_reply": "2023-02-06T17:15:09.019417Z"
    },
    "papermill": {
     "duration": 0.08653,
     "end_time": "2023-02-06T17:15:09.023105",
     "exception": false,
     "start_time": "2023-02-06T17:15:08.936575",
     "status": "completed"
    },
    "tags": []
   },
   "outputs": [
    {
     "data": {
      "text/plain": [
       "<bound method DataFrame.info of          index             Order ID      Date                        Status  \\\n",
       "0            0  405-8078784-5731545  04-30-22                     Cancelled   \n",
       "1            1  171-9198151-1101146  04-30-22  Shipped - Delivered to Buyer   \n",
       "2            2  404-0687676-7273146  04-30-22                       Shipped   \n",
       "3            3  403-9615377-8133951  04-30-22                     Cancelled   \n",
       "4            4  407-1069790-7240320  04-30-22                       Shipped   \n",
       "...        ...                  ...       ...                           ...   \n",
       "128970  128970  406-6001380-7673107  05-31-22                       Shipped   \n",
       "128971  128971  402-9551604-7544318  05-31-22                       Shipped   \n",
       "128972  128972  407-9547469-3152358  05-31-22                       Shipped   \n",
       "128973  128973  402-6184140-0545956  05-31-22                       Shipped   \n",
       "128974  128974  408-7436540-8728312  05-31-22                       Shipped   \n",
       "\n",
       "       Fulfilment Sales Channel  ship-service-level    Style              SKU  \\\n",
       "0        Merchant      Amazon.in           Standard   SET389   SET389-KR-NP-S   \n",
       "1        Merchant      Amazon.in           Standard  JNE3781  JNE3781-KR-XXXL   \n",
       "2          Amazon      Amazon.in          Expedited  JNE3371    JNE3371-KR-XL   \n",
       "3        Merchant      Amazon.in           Standard    J0341       J0341-DR-L   \n",
       "4          Amazon      Amazon.in          Expedited  JNE3671  JNE3671-TU-XXXL   \n",
       "...           ...            ...                ...      ...              ...   \n",
       "128970     Amazon      Amazon.in          Expedited  JNE3697    JNE3697-KR-XL   \n",
       "128971     Amazon      Amazon.in          Expedited   SET401   SET401-KR-NP-M   \n",
       "128972     Amazon      Amazon.in          Expedited    J0157     J0157-DR-XXL   \n",
       "128973     Amazon      Amazon.in          Expedited    J0012     J0012-SKD-XS   \n",
       "128974     Amazon      Amazon.in          Expedited    J0003      J0003-SET-S   \n",
       "\n",
       "             Category  ... currency   Amount    ship-city    ship-state  \\\n",
       "0                 Set  ...      INR   647.62       MUMBAI   MAHARASHTRA   \n",
       "1               kurta  ...      INR   406.00    BENGALURU     KARNATAKA   \n",
       "2               kurta  ...      INR   329.00  NAVI MUMBAI   MAHARASHTRA   \n",
       "3       Western Dress  ...      INR   753.33   PUDUCHERRY    PUDUCHERRY   \n",
       "4                 Top  ...      INR   574.00      CHENNAI    TAMIL NADU   \n",
       "...               ...  ...      ...      ...          ...           ...   \n",
       "128970          kurta  ...      INR   517.00    HYDERABAD     TELANGANA   \n",
       "128971            Set  ...      INR   999.00     GURUGRAM       HARYANA   \n",
       "128972  Western Dress  ...      INR   690.00    HYDERABAD     TELANGANA   \n",
       "128973            Set  ...      INR  1199.00        Halol       Gujarat   \n",
       "128974            Set  ...      INR   696.00       Raipur  CHHATTISGARH   \n",
       "\n",
       "       ship-postal-code  ship-country  \\\n",
       "0              400081.0            IN   \n",
       "1              560085.0            IN   \n",
       "2              410210.0            IN   \n",
       "3              605008.0            IN   \n",
       "4              600073.0            IN   \n",
       "...                 ...           ...   \n",
       "128970         500013.0            IN   \n",
       "128971         122004.0            IN   \n",
       "128972         500049.0            IN   \n",
       "128973         389350.0            IN   \n",
       "128974         492014.0            IN   \n",
       "\n",
       "                                            promotion-ids    B2B  \\\n",
       "0                                                     NaN  False   \n",
       "1       Amazon PLCC Free-Financing Universal Merchant ...  False   \n",
       "2            IN Core Free Shipping 2015/04/08 23-48-5-108   True   \n",
       "3                                                     NaN  False   \n",
       "4                                                     NaN  False   \n",
       "...                                                   ...    ...   \n",
       "128970                                                NaN  False   \n",
       "128971       IN Core Free Shipping 2015/04/08 23-48-5-108  False   \n",
       "128972                                                NaN  False   \n",
       "128973       IN Core Free Shipping 2015/04/08 23-48-5-108  False   \n",
       "128974       IN Core Free Shipping 2015/04/08 23-48-5-108  False   \n",
       "\n",
       "        fulfilled-by Unnamed: 22  \n",
       "0          Easy Ship         NaN  \n",
       "1          Easy Ship         NaN  \n",
       "2                NaN         NaN  \n",
       "3          Easy Ship         NaN  \n",
       "4                NaN         NaN  \n",
       "...              ...         ...  \n",
       "128970           NaN       False  \n",
       "128971           NaN       False  \n",
       "128972           NaN       False  \n",
       "128973           NaN       False  \n",
       "128974           NaN       False  \n",
       "\n",
       "[128975 rows x 24 columns]>"
      ]
     },
     "execution_count": 3,
     "metadata": {},
     "output_type": "execute_result"
    }
   ],
   "source": [
    "df.info"
   ]
  },
  {
   "cell_type": "code",
   "execution_count": 4,
   "id": "d5185df6",
   "metadata": {
    "execution": {
     "iopub.execute_input": "2023-02-06T17:15:09.032213Z",
     "iopub.status.busy": "2023-02-06T17:15:09.031829Z",
     "iopub.status.idle": "2023-02-06T17:15:09.126600Z",
     "shell.execute_reply": "2023-02-06T17:15:09.125604Z"
    },
    "papermill": {
     "duration": 0.101837,
     "end_time": "2023-02-06T17:15:09.128687",
     "exception": false,
     "start_time": "2023-02-06T17:15:09.026850",
     "status": "completed"
    },
    "tags": []
   },
   "outputs": [
    {
     "data": {
      "text/plain": [
       "index                     0\n",
       "Order ID                  0\n",
       "Date                      0\n",
       "Status                    0\n",
       "Fulfilment                0\n",
       "Sales Channel             0\n",
       "ship-service-level        0\n",
       "Style                     0\n",
       "SKU                       0\n",
       "Category                  0\n",
       "Size                      0\n",
       "ASIN                      0\n",
       "Courier Status         6872\n",
       "Qty                       0\n",
       "currency               7795\n",
       "Amount                 7795\n",
       "ship-city                33\n",
       "ship-state               33\n",
       "ship-postal-code         33\n",
       "ship-country             33\n",
       "promotion-ids         49153\n",
       "B2B                       0\n",
       "fulfilled-by          89698\n",
       "Unnamed: 22           49050\n",
       "dtype: int64"
      ]
     },
     "execution_count": 4,
     "metadata": {},
     "output_type": "execute_result"
    }
   ],
   "source": [
    "df.isnull().sum()"
   ]
  },
  {
   "cell_type": "code",
   "execution_count": 5,
   "id": "bdc9fbfc",
   "metadata": {
    "execution": {
     "iopub.execute_input": "2023-02-06T17:15:09.137953Z",
     "iopub.status.busy": "2023-02-06T17:15:09.137472Z",
     "iopub.status.idle": "2023-02-06T17:15:09.272249Z",
     "shell.execute_reply": "2023-02-06T17:15:09.271073Z"
    },
    "papermill": {
     "duration": 0.141848,
     "end_time": "2023-02-06T17:15:09.274409",
     "exception": false,
     "start_time": "2023-02-06T17:15:09.132561",
     "status": "completed"
    },
    "tags": []
   },
   "outputs": [],
   "source": [
    "df=df.fillna(method = 'bfill', axis=0)"
   ]
  },
  {
   "cell_type": "code",
   "execution_count": 6,
   "id": "317fc9dc",
   "metadata": {
    "execution": {
     "iopub.execute_input": "2023-02-06T17:15:09.284130Z",
     "iopub.status.busy": "2023-02-06T17:15:09.283685Z",
     "iopub.status.idle": "2023-02-06T17:15:09.381128Z",
     "shell.execute_reply": "2023-02-06T17:15:09.379979Z"
    },
    "papermill": {
     "duration": 0.105054,
     "end_time": "2023-02-06T17:15:09.383228",
     "exception": false,
     "start_time": "2023-02-06T17:15:09.278174",
     "status": "completed"
    },
    "tags": []
   },
   "outputs": [
    {
     "data": {
      "text/plain": [
       "index                  0\n",
       "Order ID               0\n",
       "Date                   0\n",
       "Status                 0\n",
       "Fulfilment             0\n",
       "Sales Channel          0\n",
       "ship-service-level     0\n",
       "Style                  0\n",
       "SKU                    0\n",
       "Category               0\n",
       "Size                   0\n",
       "ASIN                   0\n",
       "Courier Status         0\n",
       "Qty                    0\n",
       "currency               0\n",
       "Amount                 0\n",
       "ship-city              0\n",
       "ship-state             0\n",
       "ship-postal-code       0\n",
       "ship-country           0\n",
       "promotion-ids          0\n",
       "B2B                    0\n",
       "fulfilled-by          83\n",
       "Unnamed: 22            0\n",
       "dtype: int64"
      ]
     },
     "execution_count": 6,
     "metadata": {},
     "output_type": "execute_result"
    }
   ],
   "source": [
    "df.isnull().sum()"
   ]
  },
  {
   "cell_type": "code",
   "execution_count": 7,
   "id": "6f94fb8b",
   "metadata": {
    "execution": {
     "iopub.execute_input": "2023-02-06T17:15:09.394543Z",
     "iopub.status.busy": "2023-02-06T17:15:09.394102Z",
     "iopub.status.idle": "2023-02-06T17:15:09.566941Z",
     "shell.execute_reply": "2023-02-06T17:15:09.565580Z"
    },
    "papermill": {
     "duration": 0.181909,
     "end_time": "2023-02-06T17:15:09.569294",
     "exception": false,
     "start_time": "2023-02-06T17:15:09.387385",
     "status": "completed"
    },
    "tags": []
   },
   "outputs": [],
   "source": [
    "df=df.fillna(0)"
   ]
  },
  {
   "cell_type": "code",
   "execution_count": 8,
   "id": "81db1bba",
   "metadata": {
    "execution": {
     "iopub.execute_input": "2023-02-06T17:15:09.579882Z",
     "iopub.status.busy": "2023-02-06T17:15:09.578525Z",
     "iopub.status.idle": "2023-02-06T17:15:09.586638Z",
     "shell.execute_reply": "2023-02-06T17:15:09.585934Z"
    },
    "papermill": {
     "duration": 0.015375,
     "end_time": "2023-02-06T17:15:09.588534",
     "exception": false,
     "start_time": "2023-02-06T17:15:09.573159",
     "status": "completed"
    },
    "tags": []
   },
   "outputs": [
    {
     "data": {
      "text/plain": [
       "index                   int64\n",
       "Order ID               object\n",
       "Date                   object\n",
       "Status                 object\n",
       "Fulfilment             object\n",
       "Sales Channel          object\n",
       "ship-service-level     object\n",
       "Style                  object\n",
       "SKU                    object\n",
       "Category               object\n",
       "Size                   object\n",
       "ASIN                   object\n",
       "Courier Status         object\n",
       "Qty                     int64\n",
       "currency               object\n",
       "Amount                float64\n",
       "ship-city              object\n",
       "ship-state             object\n",
       "ship-postal-code      float64\n",
       "ship-country           object\n",
       "promotion-ids          object\n",
       "B2B                      bool\n",
       "fulfilled-by           object\n",
       "Unnamed: 22              bool\n",
       "dtype: object"
      ]
     },
     "execution_count": 8,
     "metadata": {},
     "output_type": "execute_result"
    }
   ],
   "source": [
    "df.dtypes"
   ]
  },
  {
   "cell_type": "code",
   "execution_count": null,
   "id": "94f0136a",
   "metadata": {
    "papermill": {
     "duration": 0.003626,
     "end_time": "2023-02-06T17:15:09.596184",
     "exception": false,
     "start_time": "2023-02-06T17:15:09.592558",
     "status": "completed"
    },
    "tags": []
   },
   "outputs": [],
   "source": []
  },
  {
   "cell_type": "code",
   "execution_count": 9,
   "id": "2a1e25a0",
   "metadata": {
    "execution": {
     "iopub.execute_input": "2023-02-06T17:15:09.606596Z",
     "iopub.status.busy": "2023-02-06T17:15:09.605346Z",
     "iopub.status.idle": "2023-02-06T17:15:09.633609Z",
     "shell.execute_reply": "2023-02-06T17:15:09.632299Z"
    },
    "papermill": {
     "duration": 0.035964,
     "end_time": "2023-02-06T17:15:09.635999",
     "exception": false,
     "start_time": "2023-02-06T17:15:09.600035",
     "status": "completed"
    },
    "tags": []
   },
   "outputs": [
    {
     "data": {
      "text/plain": [
       "Fulfilment\n",
       "Amazon      58238510.40\n",
       "Merchant    25406716.41\n",
       "Name: Amount, dtype: float64"
      ]
     },
     "execution_count": 9,
     "metadata": {},
     "output_type": "execute_result"
    }
   ],
   "source": [
    "df['Amount'].groupby(df['Fulfilment']).sum()"
   ]
  },
  {
   "cell_type": "code",
   "execution_count": 10,
   "id": "2c9ffb0f",
   "metadata": {
    "execution": {
     "iopub.execute_input": "2023-02-06T17:15:09.646236Z",
     "iopub.status.busy": "2023-02-06T17:15:09.645813Z",
     "iopub.status.idle": "2023-02-06T17:15:09.665705Z",
     "shell.execute_reply": "2023-02-06T17:15:09.664417Z"
    },
    "papermill": {
     "duration": 0.028641,
     "end_time": "2023-02-06T17:15:09.668835",
     "exception": false,
     "start_time": "2023-02-06T17:15:09.640194",
     "status": "completed"
    },
    "tags": []
   },
   "outputs": [
    {
     "data": {
      "text/plain": [
       "Category\n",
       "Blouse             926\n",
       "Bottom             440\n",
       "Dupatta              3\n",
       "Ethnic Dress      1159\n",
       "Saree              164\n",
       "Set              50284\n",
       "Top              10622\n",
       "Western Dress    15500\n",
       "kurta            49877\n",
       "Name: Amount, dtype: int64"
      ]
     },
     "execution_count": 10,
     "metadata": {},
     "output_type": "execute_result"
    }
   ],
   "source": [
    "df['Amount'].groupby(df['Category']).count()"
   ]
  }
 ],
 "metadata": {
  "kernelspec": {
   "display_name": "Python 3",
   "language": "python",
   "name": "python3"
  },
  "language_info": {
   "codemirror_mode": {
    "name": "ipython",
    "version": 3
   },
   "file_extension": ".py",
   "mimetype": "text/x-python",
   "name": "python",
   "nbconvert_exporter": "python",
   "pygments_lexer": "ipython3",
   "version": "3.7.12"
  },
  "papermill": {
   "default_parameters": {},
   "duration": 11.077969,
   "end_time": "2023-02-06T17:15:10.395327",
   "environment_variables": {},
   "exception": null,
   "input_path": "__notebook__.ipynb",
   "output_path": "__notebook__.ipynb",
   "parameters": {},
   "start_time": "2023-02-06T17:14:59.317358",
   "version": "2.3.4"
  }
 },
 "nbformat": 4,
 "nbformat_minor": 5
}
